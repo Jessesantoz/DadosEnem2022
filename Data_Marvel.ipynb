{
  "nbformat": 4,
  "nbformat_minor": 0,
  "metadata": {
    "colab": {
      "provenance": [],
      "mount_file_id": "105AZ6KbCkaMvVGXecmSKDo991UKxkqgo",
      "authorship_tag": "ABX9TyPoRpKeLE65bdAtVq57xgqX",
      "include_colab_link": true
    },
    "kernelspec": {
      "name": "python3",
      "display_name": "Python 3"
    },
    "language_info": {
      "name": "python"
    }
  },
  "cells": [
    {
      "cell_type": "markdown",
      "metadata": {
        "id": "view-in-github",
        "colab_type": "text"
      },
      "source": [
        "<a href=\"https://colab.research.google.com/github/Jessesantoz/DadosEnem2022/blob/main/Data_Marvel.ipynb\" target=\"_parent\"><img src=\"https://colab.research.google.com/assets/colab-badge.svg\" alt=\"Open In Colab\"/></a>"
      ]
    },
    {
      "cell_type": "markdown",
      "source": [
        "# Dados de produções da Marvel:"
      ],
      "metadata": {
        "id": "HfNYjzlPl4Uy"
      }
    },
    {
      "cell_type": "code",
      "execution_count": 1,
      "metadata": {
        "id": "q8YYsNW4lBgG"
      },
      "outputs": [],
      "source": [
        "import pandas as pd\n",
        "import matplotlib.pyplot as plt\n",
        "import numpy as np"
      ]
    },
    {
      "cell_type": "code",
      "source": [
        "marvel_df = pd.read_csv('/content/drive/MyDrive/Dados/Books/Marvel_Comics.csv')"
      ],
      "metadata": {
        "id": "KG2nxSa1lYjh"
      },
      "execution_count": 2,
      "outputs": []
    },
    {
      "cell_type": "code",
      "source": [
        "marvel_df.head(3)"
      ],
      "metadata": {
        "colab": {
          "base_uri": "https://localhost:8080/",
          "height": 230
        },
        "id": "eC0HmB2zlnf1",
        "outputId": "84d610f6-ca34-4133-ef50-d6d801094e3d"
      },
      "execution_count": 3,
      "outputs": [
        {
          "output_type": "execute_result",
          "data": {
            "text/plain": [
              "                                          comic_name active_years  \\\n",
              "0     A Year of Marvels: April Infinite Comic (2016)       (2016)   \n",
              "1    A Year of Marvels: August Infinite Comic (2016)       (2016)   \n",
              "2  A Year of Marvels: February Infinite Comic (2016)       (2016)   \n",
              "\n",
              "                                         issue_title       publish_date  \\\n",
              "0  A Year of Marvels: April Infinite Comic (2016) #1     April 01, 2016   \n",
              "1  A Year of Marvels: August Infinite Comic (2016...    August 10, 2016   \n",
              "2  A Year of Marvels: February Infinite Comic (20...  February 10, 2016   \n",
              "\n",
              "                                   issue_description  \\\n",
              "0  The Infinite Comic that will have everyone tal...   \n",
              "1  It’s August, and Nick Fury is just in time to ...   \n",
              "2  Join us in a brand new Marvel comics adventure...   \n",
              "\n",
              "                    penciler                   writer    cover_artist  \\\n",
              "0               Yves Bigerel             Yves Bigerel  Jamal Campbell   \n",
              "1             Jamal Campbell  Chris Sims, Chad Bowers            None   \n",
              "2  Danilo S. Beyruth, M Mast               Ryan North            None   \n",
              "\n",
              "            Imprint           Format     Rating  Price  \n",
              "0   Marvel Universe   Infinite Comic   Rated T+   Free  \n",
              "1   Marvel Universe   Infinite Comic       None   Free  \n",
              "2   Marvel Universe   Infinite Comic   Rated T+   Free  "
            ],
            "text/html": [
              "\n",
              "  <div id=\"df-1efb2abb-5c42-4ca8-aa80-2cb7a6fbf06c\" class=\"colab-df-container\">\n",
              "    <div>\n",
              "<style scoped>\n",
              "    .dataframe tbody tr th:only-of-type {\n",
              "        vertical-align: middle;\n",
              "    }\n",
              "\n",
              "    .dataframe tbody tr th {\n",
              "        vertical-align: top;\n",
              "    }\n",
              "\n",
              "    .dataframe thead th {\n",
              "        text-align: right;\n",
              "    }\n",
              "</style>\n",
              "<table border=\"1\" class=\"dataframe\">\n",
              "  <thead>\n",
              "    <tr style=\"text-align: right;\">\n",
              "      <th></th>\n",
              "      <th>comic_name</th>\n",
              "      <th>active_years</th>\n",
              "      <th>issue_title</th>\n",
              "      <th>publish_date</th>\n",
              "      <th>issue_description</th>\n",
              "      <th>penciler</th>\n",
              "      <th>writer</th>\n",
              "      <th>cover_artist</th>\n",
              "      <th>Imprint</th>\n",
              "      <th>Format</th>\n",
              "      <th>Rating</th>\n",
              "      <th>Price</th>\n",
              "    </tr>\n",
              "  </thead>\n",
              "  <tbody>\n",
              "    <tr>\n",
              "      <th>0</th>\n",
              "      <td>A Year of Marvels: April Infinite Comic (2016)</td>\n",
              "      <td>(2016)</td>\n",
              "      <td>A Year of Marvels: April Infinite Comic (2016) #1</td>\n",
              "      <td>April 01, 2016</td>\n",
              "      <td>The Infinite Comic that will have everyone tal...</td>\n",
              "      <td>Yves Bigerel</td>\n",
              "      <td>Yves Bigerel</td>\n",
              "      <td>Jamal Campbell</td>\n",
              "      <td>Marvel Universe</td>\n",
              "      <td>Infinite Comic</td>\n",
              "      <td>Rated T+</td>\n",
              "      <td>Free</td>\n",
              "    </tr>\n",
              "    <tr>\n",
              "      <th>1</th>\n",
              "      <td>A Year of Marvels: August Infinite Comic (2016)</td>\n",
              "      <td>(2016)</td>\n",
              "      <td>A Year of Marvels: August Infinite Comic (2016...</td>\n",
              "      <td>August 10, 2016</td>\n",
              "      <td>It’s August, and Nick Fury is just in time to ...</td>\n",
              "      <td>Jamal Campbell</td>\n",
              "      <td>Chris Sims, Chad Bowers</td>\n",
              "      <td>None</td>\n",
              "      <td>Marvel Universe</td>\n",
              "      <td>Infinite Comic</td>\n",
              "      <td>None</td>\n",
              "      <td>Free</td>\n",
              "    </tr>\n",
              "    <tr>\n",
              "      <th>2</th>\n",
              "      <td>A Year of Marvels: February Infinite Comic (2016)</td>\n",
              "      <td>(2016)</td>\n",
              "      <td>A Year of Marvels: February Infinite Comic (20...</td>\n",
              "      <td>February 10, 2016</td>\n",
              "      <td>Join us in a brand new Marvel comics adventure...</td>\n",
              "      <td>Danilo S. Beyruth, M Mast</td>\n",
              "      <td>Ryan North</td>\n",
              "      <td>None</td>\n",
              "      <td>Marvel Universe</td>\n",
              "      <td>Infinite Comic</td>\n",
              "      <td>Rated T+</td>\n",
              "      <td>Free</td>\n",
              "    </tr>\n",
              "  </tbody>\n",
              "</table>\n",
              "</div>\n",
              "    <div class=\"colab-df-buttons\">\n",
              "\n",
              "  <div class=\"colab-df-container\">\n",
              "    <button class=\"colab-df-convert\" onclick=\"convertToInteractive('df-1efb2abb-5c42-4ca8-aa80-2cb7a6fbf06c')\"\n",
              "            title=\"Convert this dataframe to an interactive table.\"\n",
              "            style=\"display:none;\">\n",
              "\n",
              "  <svg xmlns=\"http://www.w3.org/2000/svg\" height=\"24px\" viewBox=\"0 -960 960 960\">\n",
              "    <path d=\"M120-120v-720h720v720H120Zm60-500h600v-160H180v160Zm220 220h160v-160H400v160Zm0 220h160v-160H400v160ZM180-400h160v-160H180v160Zm440 0h160v-160H620v160ZM180-180h160v-160H180v160Zm440 0h160v-160H620v160Z\"/>\n",
              "  </svg>\n",
              "    </button>\n",
              "\n",
              "  <style>\n",
              "    .colab-df-container {\n",
              "      display:flex;\n",
              "      gap: 12px;\n",
              "    }\n",
              "\n",
              "    .colab-df-convert {\n",
              "      background-color: #E8F0FE;\n",
              "      border: none;\n",
              "      border-radius: 50%;\n",
              "      cursor: pointer;\n",
              "      display: none;\n",
              "      fill: #1967D2;\n",
              "      height: 32px;\n",
              "      padding: 0 0 0 0;\n",
              "      width: 32px;\n",
              "    }\n",
              "\n",
              "    .colab-df-convert:hover {\n",
              "      background-color: #E2EBFA;\n",
              "      box-shadow: 0px 1px 2px rgba(60, 64, 67, 0.3), 0px 1px 3px 1px rgba(60, 64, 67, 0.15);\n",
              "      fill: #174EA6;\n",
              "    }\n",
              "\n",
              "    .colab-df-buttons div {\n",
              "      margin-bottom: 4px;\n",
              "    }\n",
              "\n",
              "    [theme=dark] .colab-df-convert {\n",
              "      background-color: #3B4455;\n",
              "      fill: #D2E3FC;\n",
              "    }\n",
              "\n",
              "    [theme=dark] .colab-df-convert:hover {\n",
              "      background-color: #434B5C;\n",
              "      box-shadow: 0px 1px 3px 1px rgba(0, 0, 0, 0.15);\n",
              "      filter: drop-shadow(0px 1px 2px rgba(0, 0, 0, 0.3));\n",
              "      fill: #FFFFFF;\n",
              "    }\n",
              "  </style>\n",
              "\n",
              "    <script>\n",
              "      const buttonEl =\n",
              "        document.querySelector('#df-1efb2abb-5c42-4ca8-aa80-2cb7a6fbf06c button.colab-df-convert');\n",
              "      buttonEl.style.display =\n",
              "        google.colab.kernel.accessAllowed ? 'block' : 'none';\n",
              "\n",
              "      async function convertToInteractive(key) {\n",
              "        const element = document.querySelector('#df-1efb2abb-5c42-4ca8-aa80-2cb7a6fbf06c');\n",
              "        const dataTable =\n",
              "          await google.colab.kernel.invokeFunction('convertToInteractive',\n",
              "                                                    [key], {});\n",
              "        if (!dataTable) return;\n",
              "\n",
              "        const docLinkHtml = 'Like what you see? Visit the ' +\n",
              "          '<a target=\"_blank\" href=https://colab.research.google.com/notebooks/data_table.ipynb>data table notebook</a>'\n",
              "          + ' to learn more about interactive tables.';\n",
              "        element.innerHTML = '';\n",
              "        dataTable['output_type'] = 'display_data';\n",
              "        await google.colab.output.renderOutput(dataTable, element);\n",
              "        const docLink = document.createElement('div');\n",
              "        docLink.innerHTML = docLinkHtml;\n",
              "        element.appendChild(docLink);\n",
              "      }\n",
              "    </script>\n",
              "  </div>\n",
              "\n",
              "\n",
              "<div id=\"df-8e9d7f86-f3ee-47eb-8769-85c9412de5ba\">\n",
              "  <button class=\"colab-df-quickchart\" onclick=\"quickchart('df-8e9d7f86-f3ee-47eb-8769-85c9412de5ba')\"\n",
              "            title=\"Suggest charts\"\n",
              "            style=\"display:none;\">\n",
              "\n",
              "<svg xmlns=\"http://www.w3.org/2000/svg\" height=\"24px\"viewBox=\"0 0 24 24\"\n",
              "     width=\"24px\">\n",
              "    <g>\n",
              "        <path d=\"M19 3H5c-1.1 0-2 .9-2 2v14c0 1.1.9 2 2 2h14c1.1 0 2-.9 2-2V5c0-1.1-.9-2-2-2zM9 17H7v-7h2v7zm4 0h-2V7h2v10zm4 0h-2v-4h2v4z\"/>\n",
              "    </g>\n",
              "</svg>\n",
              "  </button>\n",
              "\n",
              "<style>\n",
              "  .colab-df-quickchart {\n",
              "      --bg-color: #E8F0FE;\n",
              "      --fill-color: #1967D2;\n",
              "      --hover-bg-color: #E2EBFA;\n",
              "      --hover-fill-color: #174EA6;\n",
              "      --disabled-fill-color: #AAA;\n",
              "      --disabled-bg-color: #DDD;\n",
              "  }\n",
              "\n",
              "  [theme=dark] .colab-df-quickchart {\n",
              "      --bg-color: #3B4455;\n",
              "      --fill-color: #D2E3FC;\n",
              "      --hover-bg-color: #434B5C;\n",
              "      --hover-fill-color: #FFFFFF;\n",
              "      --disabled-bg-color: #3B4455;\n",
              "      --disabled-fill-color: #666;\n",
              "  }\n",
              "\n",
              "  .colab-df-quickchart {\n",
              "    background-color: var(--bg-color);\n",
              "    border: none;\n",
              "    border-radius: 50%;\n",
              "    cursor: pointer;\n",
              "    display: none;\n",
              "    fill: var(--fill-color);\n",
              "    height: 32px;\n",
              "    padding: 0;\n",
              "    width: 32px;\n",
              "  }\n",
              "\n",
              "  .colab-df-quickchart:hover {\n",
              "    background-color: var(--hover-bg-color);\n",
              "    box-shadow: 0 1px 2px rgba(60, 64, 67, 0.3), 0 1px 3px 1px rgba(60, 64, 67, 0.15);\n",
              "    fill: var(--button-hover-fill-color);\n",
              "  }\n",
              "\n",
              "  .colab-df-quickchart-complete:disabled,\n",
              "  .colab-df-quickchart-complete:disabled:hover {\n",
              "    background-color: var(--disabled-bg-color);\n",
              "    fill: var(--disabled-fill-color);\n",
              "    box-shadow: none;\n",
              "  }\n",
              "\n",
              "  .colab-df-spinner {\n",
              "    border: 2px solid var(--fill-color);\n",
              "    border-color: transparent;\n",
              "    border-bottom-color: var(--fill-color);\n",
              "    animation:\n",
              "      spin 1s steps(1) infinite;\n",
              "  }\n",
              "\n",
              "  @keyframes spin {\n",
              "    0% {\n",
              "      border-color: transparent;\n",
              "      border-bottom-color: var(--fill-color);\n",
              "      border-left-color: var(--fill-color);\n",
              "    }\n",
              "    20% {\n",
              "      border-color: transparent;\n",
              "      border-left-color: var(--fill-color);\n",
              "      border-top-color: var(--fill-color);\n",
              "    }\n",
              "    30% {\n",
              "      border-color: transparent;\n",
              "      border-left-color: var(--fill-color);\n",
              "      border-top-color: var(--fill-color);\n",
              "      border-right-color: var(--fill-color);\n",
              "    }\n",
              "    40% {\n",
              "      border-color: transparent;\n",
              "      border-right-color: var(--fill-color);\n",
              "      border-top-color: var(--fill-color);\n",
              "    }\n",
              "    60% {\n",
              "      border-color: transparent;\n",
              "      border-right-color: var(--fill-color);\n",
              "    }\n",
              "    80% {\n",
              "      border-color: transparent;\n",
              "      border-right-color: var(--fill-color);\n",
              "      border-bottom-color: var(--fill-color);\n",
              "    }\n",
              "    90% {\n",
              "      border-color: transparent;\n",
              "      border-bottom-color: var(--fill-color);\n",
              "    }\n",
              "  }\n",
              "</style>\n",
              "\n",
              "  <script>\n",
              "    async function quickchart(key) {\n",
              "      const quickchartButtonEl =\n",
              "        document.querySelector('#' + key + ' button');\n",
              "      quickchartButtonEl.disabled = true;  // To prevent multiple clicks.\n",
              "      quickchartButtonEl.classList.add('colab-df-spinner');\n",
              "      try {\n",
              "        const charts = await google.colab.kernel.invokeFunction(\n",
              "            'suggestCharts', [key], {});\n",
              "      } catch (error) {\n",
              "        console.error('Error during call to suggestCharts:', error);\n",
              "      }\n",
              "      quickchartButtonEl.classList.remove('colab-df-spinner');\n",
              "      quickchartButtonEl.classList.add('colab-df-quickchart-complete');\n",
              "    }\n",
              "    (() => {\n",
              "      let quickchartButtonEl =\n",
              "        document.querySelector('#df-8e9d7f86-f3ee-47eb-8769-85c9412de5ba button');\n",
              "      quickchartButtonEl.style.display =\n",
              "        google.colab.kernel.accessAllowed ? 'block' : 'none';\n",
              "    })();\n",
              "  </script>\n",
              "</div>\n",
              "\n",
              "    </div>\n",
              "  </div>\n"
            ],
            "application/vnd.google.colaboratory.intrinsic+json": {
              "type": "dataframe",
              "variable_name": "marvel_df",
              "summary": "{\n  \"name\": \"marvel_df\",\n  \"rows\": 34992,\n  \"fields\": [\n    {\n      \"column\": \"comic_name\",\n      \"properties\": {\n        \"dtype\": \"category\",\n        \"samples\": [\n          \"Marvel Feature (1971 - 1973)\",\n          \"World War Hulks: Hulked-Out Heroes (2010)\",\n          \"Amazing Spider-Man: Extra! (the Spartacus Gambit) (2009)\"\n        ],\n        \"num_unique_values\": 4935,\n        \"semantic_type\": \"\",\n        \"description\": \"\"\n      }\n    },\n    {\n      \"column\": \"active_years\",\n      \"properties\": {\n        \"dtype\": \"category\",\n        \"samples\": [\n          \"(1967 - 1982)\",\n          \"(2020)\",\n          \"(2004 - 2007)\"\n        ],\n        \"num_unique_values\": 412,\n        \"semantic_type\": \"\",\n        \"description\": \"\"\n      }\n    },\n    {\n      \"column\": \"issue_title\",\n      \"properties\": {\n        \"dtype\": \"string\",\n        \"samples\": [\n          \"Defenders (2005) #2\",\n          \"Marvel Age Spider-Man Vol. 3: Swingtime (Digest)\",\n          \"X-Men: The End - Men and X-Men (2006) #3\"\n        ],\n        \"num_unique_values\": 33758,\n        \"semantic_type\": \"\",\n        \"description\": \"\"\n      }\n    },\n    {\n      \"column\": \"publish_date\",\n      \"properties\": {\n        \"dtype\": \"category\",\n        \"samples\": [\n          \"February 10, 1967\",\n          \"March 10, 1993\",\n          \"August 13, 2019\"\n        ],\n        \"num_unique_values\": 3318,\n        \"semantic_type\": \"\",\n        \"description\": \"\"\n      }\n    },\n    {\n      \"column\": \"issue_description\",\n      \"properties\": {\n        \"dtype\": \"string\",\n        \"samples\": [\n          \"Iron Fist finds a (very) worthy opponent in the Golden Tigers Gang. Leader Chaka shows his true colors, and swears to topple Ward Meachum. But why? Iron Fist accused of murder!\",\n          \"The war against the abominable Cancerverse reaches its climax. Only Thanos can decide the fate of two universes, but what choice will he make?\",\n          \"This space-scraping series takes an earthbound turn- what extraterrestrial activity has been occurring in Kentucky?\"\n        ],\n        \"num_unique_values\": 29332,\n        \"semantic_type\": \"\",\n        \"description\": \"\"\n      }\n    },\n    {\n      \"column\": \"penciler\",\n      \"properties\": {\n        \"dtype\": \"category\",\n        \"samples\": [\n          \"Emma Rios, Chris Bachalo\",\n          \"Gil Kane, Brent Anderson\",\n          \"Steve Leialoha, Sal Buscema\"\n        ],\n        \"num_unique_values\": 3916,\n        \"semantic_type\": \"\",\n        \"description\": \"\"\n      }\n    },\n    {\n      \"column\": \"writer\",\n      \"properties\": {\n        \"dtype\": \"category\",\n        \"samples\": [\n          \"Frank Tieri, Joe Quesada\",\n          \"Tom Beland, Christos Gage\",\n          \"Doug Moench, Chris Claremont, Al Milgrom, Steve Gerber\"\n        ],\n        \"num_unique_values\": 3083,\n        \"semantic_type\": \"\",\n        \"description\": \"\"\n      }\n    },\n    {\n      \"column\": \"cover_artist\",\n      \"properties\": {\n        \"dtype\": \"category\",\n        \"samples\": [\n          \"Mattia De Iulis\",\n          \"Gary Friedrich\",\n          \"Pyeong-Jun Park\"\n        ],\n        \"num_unique_values\": 1011,\n        \"semantic_type\": \"\",\n        \"description\": \"\"\n      }\n    },\n    {\n      \"column\": \"Imprint\",\n      \"properties\": {\n        \"dtype\": \"category\",\n        \"samples\": [\n          \" MARKETING\",\n          \" MAX\",\n          \" LICENSED PUBLISHING\"\n        ],\n        \"num_unique_values\": 40,\n        \"semantic_type\": \"\",\n        \"description\": \"\"\n      }\n    },\n    {\n      \"column\": \"Format\",\n      \"properties\": {\n        \"dtype\": \"category\",\n        \"samples\": [\n          \" DIGITAL COMIC\",\n          \" comic\",\n          \" Infinite Comic\"\n        ],\n        \"num_unique_values\": 12,\n        \"semantic_type\": \"\",\n        \"description\": \"\"\n      }\n    },\n    {\n      \"column\": \"Rating\",\n      \"properties\": {\n        \"dtype\": \"category\",\n        \"samples\": [\n          \" Rated A\",\n          \" RATED A\",\n          \" A\"\n        ],\n        \"num_unique_values\": 37,\n        \"semantic_type\": \"\",\n        \"description\": \"\"\n      }\n    },\n    {\n      \"column\": \"Price\",\n      \"properties\": {\n        \"dtype\": \"category\",\n        \"samples\": [\n          \" $0.50\",\n          \" $4.50\",\n          \" $4.95\"\n        ],\n        \"num_unique_values\": 54,\n        \"semantic_type\": \"\",\n        \"description\": \"\"\n      }\n    }\n  ]\n}"
            }
          },
          "metadata": {},
          "execution_count": 3
        }
      ]
    },
    {
      "cell_type": "code",
      "source": [
        "marvel_df.info()"
      ],
      "metadata": {
        "colab": {
          "base_uri": "https://localhost:8080/"
        },
        "id": "nhYLxAIkmWjN",
        "outputId": "860b22e5-c43f-4f83-cff9-d295ba1c2fb3"
      },
      "execution_count": 4,
      "outputs": [
        {
          "output_type": "stream",
          "name": "stdout",
          "text": [
            "<class 'pandas.core.frame.DataFrame'>\n",
            "RangeIndex: 34992 entries, 0 to 34991\n",
            "Data columns (total 12 columns):\n",
            " #   Column             Non-Null Count  Dtype \n",
            "---  ------             --------------  ----- \n",
            " 0   comic_name         34992 non-null  object\n",
            " 1   active_years       34992 non-null  object\n",
            " 2   issue_title        34992 non-null  object\n",
            " 3   publish_date       34992 non-null  object\n",
            " 4   issue_description  34992 non-null  object\n",
            " 5   penciler           34992 non-null  object\n",
            " 6   writer             34992 non-null  object\n",
            " 7   cover_artist       34992 non-null  object\n",
            " 8   Imprint            34992 non-null  object\n",
            " 9   Format             34992 non-null  object\n",
            " 10  Rating             34992 non-null  object\n",
            " 11  Price              34992 non-null  object\n",
            "dtypes: object(12)\n",
            "memory usage: 3.2+ MB\n"
          ]
        }
      ]
    },
    {
      "cell_type": "code",
      "source": [
        "marvel_df.describe()"
      ],
      "metadata": {
        "colab": {
          "base_uri": "https://localhost:8080/",
          "height": 175
        },
        "id": "FwR0UpxGmU0n",
        "outputId": "2732b1ab-a432-4a58-ee1d-591619faf0c2"
      },
      "execution_count": 5,
      "outputs": [
        {
          "output_type": "execute_result",
          "data": {
            "text/plain": [
              "                         comic_name   active_years issue_title  \\\n",
              "count                         34992          34992       34992   \n",
              "unique                         4935            412       33758   \n",
              "top     Uncanny X-Men (1981 - 2011)  (1968 - 1996)        None   \n",
              "freq                            588            718         526   \n",
              "\n",
              "              publish_date issue_description penciler writer cover_artist  \\\n",
              "count                34992             34992    34992  34992        34992   \n",
              "unique                3318             29332     3916   3083         1011   \n",
              "top     November 30, -0001              None     None   None         None   \n",
              "freq                   543              4597     9510   7397        22737   \n",
              "\n",
              "       Imprint  Format Rating  Price  \n",
              "count    34992   34992  34992  34992  \n",
              "unique      40      12     37     54  \n",
              "top       None   Comic   None   Free  \n",
              "freq     23308   31899  22373  15136  "
            ],
            "text/html": [
              "\n",
              "  <div id=\"df-3c8dfc95-4963-46c5-afa0-9575cdad82c1\" class=\"colab-df-container\">\n",
              "    <div>\n",
              "<style scoped>\n",
              "    .dataframe tbody tr th:only-of-type {\n",
              "        vertical-align: middle;\n",
              "    }\n",
              "\n",
              "    .dataframe tbody tr th {\n",
              "        vertical-align: top;\n",
              "    }\n",
              "\n",
              "    .dataframe thead th {\n",
              "        text-align: right;\n",
              "    }\n",
              "</style>\n",
              "<table border=\"1\" class=\"dataframe\">\n",
              "  <thead>\n",
              "    <tr style=\"text-align: right;\">\n",
              "      <th></th>\n",
              "      <th>comic_name</th>\n",
              "      <th>active_years</th>\n",
              "      <th>issue_title</th>\n",
              "      <th>publish_date</th>\n",
              "      <th>issue_description</th>\n",
              "      <th>penciler</th>\n",
              "      <th>writer</th>\n",
              "      <th>cover_artist</th>\n",
              "      <th>Imprint</th>\n",
              "      <th>Format</th>\n",
              "      <th>Rating</th>\n",
              "      <th>Price</th>\n",
              "    </tr>\n",
              "  </thead>\n",
              "  <tbody>\n",
              "    <tr>\n",
              "      <th>count</th>\n",
              "      <td>34992</td>\n",
              "      <td>34992</td>\n",
              "      <td>34992</td>\n",
              "      <td>34992</td>\n",
              "      <td>34992</td>\n",
              "      <td>34992</td>\n",
              "      <td>34992</td>\n",
              "      <td>34992</td>\n",
              "      <td>34992</td>\n",
              "      <td>34992</td>\n",
              "      <td>34992</td>\n",
              "      <td>34992</td>\n",
              "    </tr>\n",
              "    <tr>\n",
              "      <th>unique</th>\n",
              "      <td>4935</td>\n",
              "      <td>412</td>\n",
              "      <td>33758</td>\n",
              "      <td>3318</td>\n",
              "      <td>29332</td>\n",
              "      <td>3916</td>\n",
              "      <td>3083</td>\n",
              "      <td>1011</td>\n",
              "      <td>40</td>\n",
              "      <td>12</td>\n",
              "      <td>37</td>\n",
              "      <td>54</td>\n",
              "    </tr>\n",
              "    <tr>\n",
              "      <th>top</th>\n",
              "      <td>Uncanny X-Men (1981 - 2011)</td>\n",
              "      <td>(1968 - 1996)</td>\n",
              "      <td>None</td>\n",
              "      <td>November 30, -0001</td>\n",
              "      <td>None</td>\n",
              "      <td>None</td>\n",
              "      <td>None</td>\n",
              "      <td>None</td>\n",
              "      <td>None</td>\n",
              "      <td>Comic</td>\n",
              "      <td>None</td>\n",
              "      <td>Free</td>\n",
              "    </tr>\n",
              "    <tr>\n",
              "      <th>freq</th>\n",
              "      <td>588</td>\n",
              "      <td>718</td>\n",
              "      <td>526</td>\n",
              "      <td>543</td>\n",
              "      <td>4597</td>\n",
              "      <td>9510</td>\n",
              "      <td>7397</td>\n",
              "      <td>22737</td>\n",
              "      <td>23308</td>\n",
              "      <td>31899</td>\n",
              "      <td>22373</td>\n",
              "      <td>15136</td>\n",
              "    </tr>\n",
              "  </tbody>\n",
              "</table>\n",
              "</div>\n",
              "    <div class=\"colab-df-buttons\">\n",
              "\n",
              "  <div class=\"colab-df-container\">\n",
              "    <button class=\"colab-df-convert\" onclick=\"convertToInteractive('df-3c8dfc95-4963-46c5-afa0-9575cdad82c1')\"\n",
              "            title=\"Convert this dataframe to an interactive table.\"\n",
              "            style=\"display:none;\">\n",
              "\n",
              "  <svg xmlns=\"http://www.w3.org/2000/svg\" height=\"24px\" viewBox=\"0 -960 960 960\">\n",
              "    <path d=\"M120-120v-720h720v720H120Zm60-500h600v-160H180v160Zm220 220h160v-160H400v160Zm0 220h160v-160H400v160ZM180-400h160v-160H180v160Zm440 0h160v-160H620v160ZM180-180h160v-160H180v160Zm440 0h160v-160H620v160Z\"/>\n",
              "  </svg>\n",
              "    </button>\n",
              "\n",
              "  <style>\n",
              "    .colab-df-container {\n",
              "      display:flex;\n",
              "      gap: 12px;\n",
              "    }\n",
              "\n",
              "    .colab-df-convert {\n",
              "      background-color: #E8F0FE;\n",
              "      border: none;\n",
              "      border-radius: 50%;\n",
              "      cursor: pointer;\n",
              "      display: none;\n",
              "      fill: #1967D2;\n",
              "      height: 32px;\n",
              "      padding: 0 0 0 0;\n",
              "      width: 32px;\n",
              "    }\n",
              "\n",
              "    .colab-df-convert:hover {\n",
              "      background-color: #E2EBFA;\n",
              "      box-shadow: 0px 1px 2px rgba(60, 64, 67, 0.3), 0px 1px 3px 1px rgba(60, 64, 67, 0.15);\n",
              "      fill: #174EA6;\n",
              "    }\n",
              "\n",
              "    .colab-df-buttons div {\n",
              "      margin-bottom: 4px;\n",
              "    }\n",
              "\n",
              "    [theme=dark] .colab-df-convert {\n",
              "      background-color: #3B4455;\n",
              "      fill: #D2E3FC;\n",
              "    }\n",
              "\n",
              "    [theme=dark] .colab-df-convert:hover {\n",
              "      background-color: #434B5C;\n",
              "      box-shadow: 0px 1px 3px 1px rgba(0, 0, 0, 0.15);\n",
              "      filter: drop-shadow(0px 1px 2px rgba(0, 0, 0, 0.3));\n",
              "      fill: #FFFFFF;\n",
              "    }\n",
              "  </style>\n",
              "\n",
              "    <script>\n",
              "      const buttonEl =\n",
              "        document.querySelector('#df-3c8dfc95-4963-46c5-afa0-9575cdad82c1 button.colab-df-convert');\n",
              "      buttonEl.style.display =\n",
              "        google.colab.kernel.accessAllowed ? 'block' : 'none';\n",
              "\n",
              "      async function convertToInteractive(key) {\n",
              "        const element = document.querySelector('#df-3c8dfc95-4963-46c5-afa0-9575cdad82c1');\n",
              "        const dataTable =\n",
              "          await google.colab.kernel.invokeFunction('convertToInteractive',\n",
              "                                                    [key], {});\n",
              "        if (!dataTable) return;\n",
              "\n",
              "        const docLinkHtml = 'Like what you see? Visit the ' +\n",
              "          '<a target=\"_blank\" href=https://colab.research.google.com/notebooks/data_table.ipynb>data table notebook</a>'\n",
              "          + ' to learn more about interactive tables.';\n",
              "        element.innerHTML = '';\n",
              "        dataTable['output_type'] = 'display_data';\n",
              "        await google.colab.output.renderOutput(dataTable, element);\n",
              "        const docLink = document.createElement('div');\n",
              "        docLink.innerHTML = docLinkHtml;\n",
              "        element.appendChild(docLink);\n",
              "      }\n",
              "    </script>\n",
              "  </div>\n",
              "\n",
              "\n",
              "<div id=\"df-f2e4ed4e-cc7c-4c92-b117-111a2235c4d1\">\n",
              "  <button class=\"colab-df-quickchart\" onclick=\"quickchart('df-f2e4ed4e-cc7c-4c92-b117-111a2235c4d1')\"\n",
              "            title=\"Suggest charts\"\n",
              "            style=\"display:none;\">\n",
              "\n",
              "<svg xmlns=\"http://www.w3.org/2000/svg\" height=\"24px\"viewBox=\"0 0 24 24\"\n",
              "     width=\"24px\">\n",
              "    <g>\n",
              "        <path d=\"M19 3H5c-1.1 0-2 .9-2 2v14c0 1.1.9 2 2 2h14c1.1 0 2-.9 2-2V5c0-1.1-.9-2-2-2zM9 17H7v-7h2v7zm4 0h-2V7h2v10zm4 0h-2v-4h2v4z\"/>\n",
              "    </g>\n",
              "</svg>\n",
              "  </button>\n",
              "\n",
              "<style>\n",
              "  .colab-df-quickchart {\n",
              "      --bg-color: #E8F0FE;\n",
              "      --fill-color: #1967D2;\n",
              "      --hover-bg-color: #E2EBFA;\n",
              "      --hover-fill-color: #174EA6;\n",
              "      --disabled-fill-color: #AAA;\n",
              "      --disabled-bg-color: #DDD;\n",
              "  }\n",
              "\n",
              "  [theme=dark] .colab-df-quickchart {\n",
              "      --bg-color: #3B4455;\n",
              "      --fill-color: #D2E3FC;\n",
              "      --hover-bg-color: #434B5C;\n",
              "      --hover-fill-color: #FFFFFF;\n",
              "      --disabled-bg-color: #3B4455;\n",
              "      --disabled-fill-color: #666;\n",
              "  }\n",
              "\n",
              "  .colab-df-quickchart {\n",
              "    background-color: var(--bg-color);\n",
              "    border: none;\n",
              "    border-radius: 50%;\n",
              "    cursor: pointer;\n",
              "    display: none;\n",
              "    fill: var(--fill-color);\n",
              "    height: 32px;\n",
              "    padding: 0;\n",
              "    width: 32px;\n",
              "  }\n",
              "\n",
              "  .colab-df-quickchart:hover {\n",
              "    background-color: var(--hover-bg-color);\n",
              "    box-shadow: 0 1px 2px rgba(60, 64, 67, 0.3), 0 1px 3px 1px rgba(60, 64, 67, 0.15);\n",
              "    fill: var(--button-hover-fill-color);\n",
              "  }\n",
              "\n",
              "  .colab-df-quickchart-complete:disabled,\n",
              "  .colab-df-quickchart-complete:disabled:hover {\n",
              "    background-color: var(--disabled-bg-color);\n",
              "    fill: var(--disabled-fill-color);\n",
              "    box-shadow: none;\n",
              "  }\n",
              "\n",
              "  .colab-df-spinner {\n",
              "    border: 2px solid var(--fill-color);\n",
              "    border-color: transparent;\n",
              "    border-bottom-color: var(--fill-color);\n",
              "    animation:\n",
              "      spin 1s steps(1) infinite;\n",
              "  }\n",
              "\n",
              "  @keyframes spin {\n",
              "    0% {\n",
              "      border-color: transparent;\n",
              "      border-bottom-color: var(--fill-color);\n",
              "      border-left-color: var(--fill-color);\n",
              "    }\n",
              "    20% {\n",
              "      border-color: transparent;\n",
              "      border-left-color: var(--fill-color);\n",
              "      border-top-color: var(--fill-color);\n",
              "    }\n",
              "    30% {\n",
              "      border-color: transparent;\n",
              "      border-left-color: var(--fill-color);\n",
              "      border-top-color: var(--fill-color);\n",
              "      border-right-color: var(--fill-color);\n",
              "    }\n",
              "    40% {\n",
              "      border-color: transparent;\n",
              "      border-right-color: var(--fill-color);\n",
              "      border-top-color: var(--fill-color);\n",
              "    }\n",
              "    60% {\n",
              "      border-color: transparent;\n",
              "      border-right-color: var(--fill-color);\n",
              "    }\n",
              "    80% {\n",
              "      border-color: transparent;\n",
              "      border-right-color: var(--fill-color);\n",
              "      border-bottom-color: var(--fill-color);\n",
              "    }\n",
              "    90% {\n",
              "      border-color: transparent;\n",
              "      border-bottom-color: var(--fill-color);\n",
              "    }\n",
              "  }\n",
              "</style>\n",
              "\n",
              "  <script>\n",
              "    async function quickchart(key) {\n",
              "      const quickchartButtonEl =\n",
              "        document.querySelector('#' + key + ' button');\n",
              "      quickchartButtonEl.disabled = true;  // To prevent multiple clicks.\n",
              "      quickchartButtonEl.classList.add('colab-df-spinner');\n",
              "      try {\n",
              "        const charts = await google.colab.kernel.invokeFunction(\n",
              "            'suggestCharts', [key], {});\n",
              "      } catch (error) {\n",
              "        console.error('Error during call to suggestCharts:', error);\n",
              "      }\n",
              "      quickchartButtonEl.classList.remove('colab-df-spinner');\n",
              "      quickchartButtonEl.classList.add('colab-df-quickchart-complete');\n",
              "    }\n",
              "    (() => {\n",
              "      let quickchartButtonEl =\n",
              "        document.querySelector('#df-f2e4ed4e-cc7c-4c92-b117-111a2235c4d1 button');\n",
              "      quickchartButtonEl.style.display =\n",
              "        google.colab.kernel.accessAllowed ? 'block' : 'none';\n",
              "    })();\n",
              "  </script>\n",
              "</div>\n",
              "\n",
              "    </div>\n",
              "  </div>\n"
            ],
            "application/vnd.google.colaboratory.intrinsic+json": {
              "type": "dataframe",
              "summary": "{\n  \"name\": \"marvel_df\",\n  \"rows\": 4,\n  \"fields\": [\n    {\n      \"column\": \"comic_name\",\n      \"properties\": {\n        \"dtype\": \"string\",\n        \"samples\": [\n          4935,\n          \"588\",\n          \"34992\"\n        ],\n        \"num_unique_values\": 4,\n        \"semantic_type\": \"\",\n        \"description\": \"\"\n      }\n    },\n    {\n      \"column\": \"active_years\",\n      \"properties\": {\n        \"dtype\": \"string\",\n        \"samples\": [\n          412,\n          \"718\",\n          \"34992\"\n        ],\n        \"num_unique_values\": 4,\n        \"semantic_type\": \"\",\n        \"description\": \"\"\n      }\n    },\n    {\n      \"column\": \"issue_title\",\n      \"properties\": {\n        \"dtype\": \"string\",\n        \"samples\": [\n          33758,\n          \"526\",\n          \"34992\"\n        ],\n        \"num_unique_values\": 4,\n        \"semantic_type\": \"\",\n        \"description\": \"\"\n      }\n    },\n    {\n      \"column\": \"publish_date\",\n      \"properties\": {\n        \"dtype\": \"date\",\n        \"min\": \"1970-01-01 00:00:00.000000543\",\n        \"max\": \"2001-11-30 00:00:00\",\n        \"samples\": [\n          3318,\n          \"543\",\n          \"34992\"\n        ],\n        \"num_unique_values\": 4,\n        \"semantic_type\": \"\",\n        \"description\": \"\"\n      }\n    },\n    {\n      \"column\": \"issue_description\",\n      \"properties\": {\n        \"dtype\": \"string\",\n        \"samples\": [\n          29332,\n          \"4597\",\n          \"34992\"\n        ],\n        \"num_unique_values\": 4,\n        \"semantic_type\": \"\",\n        \"description\": \"\"\n      }\n    },\n    {\n      \"column\": \"penciler\",\n      \"properties\": {\n        \"dtype\": \"string\",\n        \"samples\": [\n          3916,\n          \"9510\",\n          \"34992\"\n        ],\n        \"num_unique_values\": 4,\n        \"semantic_type\": \"\",\n        \"description\": \"\"\n      }\n    },\n    {\n      \"column\": \"writer\",\n      \"properties\": {\n        \"dtype\": \"string\",\n        \"samples\": [\n          3083,\n          \"7397\",\n          \"34992\"\n        ],\n        \"num_unique_values\": 4,\n        \"semantic_type\": \"\",\n        \"description\": \"\"\n      }\n    },\n    {\n      \"column\": \"cover_artist\",\n      \"properties\": {\n        \"dtype\": \"string\",\n        \"samples\": [\n          1011,\n          \"22737\",\n          \"34992\"\n        ],\n        \"num_unique_values\": 4,\n        \"semantic_type\": \"\",\n        \"description\": \"\"\n      }\n    },\n    {\n      \"column\": \"Imprint\",\n      \"properties\": {\n        \"dtype\": \"string\",\n        \"samples\": [\n          40,\n          \"23308\",\n          \"34992\"\n        ],\n        \"num_unique_values\": 4,\n        \"semantic_type\": \"\",\n        \"description\": \"\"\n      }\n    },\n    {\n      \"column\": \"Format\",\n      \"properties\": {\n        \"dtype\": \"string\",\n        \"samples\": [\n          12,\n          \"31899\",\n          \"34992\"\n        ],\n        \"num_unique_values\": 4,\n        \"semantic_type\": \"\",\n        \"description\": \"\"\n      }\n    },\n    {\n      \"column\": \"Rating\",\n      \"properties\": {\n        \"dtype\": \"string\",\n        \"samples\": [\n          37,\n          \"22373\",\n          \"34992\"\n        ],\n        \"num_unique_values\": 4,\n        \"semantic_type\": \"\",\n        \"description\": \"\"\n      }\n    },\n    {\n      \"column\": \"Price\",\n      \"properties\": {\n        \"dtype\": \"string\",\n        \"samples\": [\n          54,\n          \"15136\",\n          \"34992\"\n        ],\n        \"num_unique_values\": 4,\n        \"semantic_type\": \"\",\n        \"description\": \"\"\n      }\n    }\n  ]\n}"
            }
          },
          "metadata": {},
          "execution_count": 5
        }
      ]
    },
    {
      "cell_type": "code",
      "source": [
        "marvel_df.columns"
      ],
      "metadata": {
        "colab": {
          "base_uri": "https://localhost:8080/"
        },
        "id": "rRYr4Xg8m2R8",
        "outputId": "9badef11-e339-4554-c40e-d4dabf9d94a6"
      },
      "execution_count": 6,
      "outputs": [
        {
          "output_type": "execute_result",
          "data": {
            "text/plain": [
              "Index(['comic_name', 'active_years', 'issue_title', 'publish_date',\n",
              "       'issue_description', 'penciler', 'writer', 'cover_artist', 'Imprint',\n",
              "       'Format', 'Rating', 'Price'],\n",
              "      dtype='object')"
            ]
          },
          "metadata": {},
          "execution_count": 6
        }
      ]
    },
    {
      "cell_type": "markdown",
      "source": [
        "\n",
        "'nome do quadrinho', 'anos ativos', 'título da edição', 'data de publicação',\n",
        "'descrição do problema', 'desenhador', 'escritor', 'artista da capa', 'Impressão','Formato', 'Classificação', 'Preço."
      ],
      "metadata": {
        "id": "p9V9wSa0sqti"
      }
    },
    {
      "cell_type": "markdown",
      "source": [
        "# Formatos:"
      ],
      "metadata": {
        "id": "lN9TN4-WmJzc"
      }
    },
    {
      "cell_type": "code",
      "source": [
        "marvel_df.Format.value_counts()"
      ],
      "metadata": {
        "colab": {
          "base_uri": "https://localhost:8080/"
        },
        "id": "npqZn-N8wPI4",
        "outputId": "cb60084d-7136-40df-951d-aed189263061"
      },
      "execution_count": 7,
      "outputs": [
        {
          "output_type": "execute_result",
          "data": {
            "text/plain": [
              " Comic              31899\n",
              "None                 2098\n",
              " Digital Comic        345\n",
              " Infinite Comic       273\n",
              " Trade Paperback      215\n",
              " Hardcover             73\n",
              " Magazine              61\n",
              " Digest                 9\n",
              " DIGITAL COMIC          8\n",
              " MAGAZINE               7\n",
              " comic                  3\n",
              " Graphic Novel          1\n",
              "Name: Format, dtype: int64"
            ]
          },
          "metadata": {},
          "execution_count": 7
        }
      ]
    },
    {
      "cell_type": "code",
      "source": [
        "topFormat = marvel_df.Format.where(marvel_df.Format != 'None').value_counts().sort_values(ascending=True)"
      ],
      "metadata": {
        "id": "Ek1humD4mSjN"
      },
      "execution_count": 8,
      "outputs": []
    },
    {
      "cell_type": "code",
      "source": [
        "topFormat.plot(kind='barh')\n",
        "plt.title('TOP FORMATOS(MARVEL):')\n",
        "plt.show()"
      ],
      "metadata": {
        "colab": {
          "base_uri": "https://localhost:8080/",
          "height": 452
        },
        "id": "Qi7qOOT5qb6-",
        "outputId": "941f0648-ea9d-4258-c99a-0f27f82a0afb"
      },
      "execution_count": 9,
      "outputs": [
        {
          "output_type": "display_data",
          "data": {
            "text/plain": [
              "<Figure size 640x480 with 1 Axes>"
            ],
            "image/png": "[encoded data removed]"
          },
          "metadata": {}
        }
      ]
    },
    {
      "cell_type": "markdown",
      "source": [
        "# Classificação:"
      ],
      "metadata": {
        "id": "wsl7UJtJtaii"
      }
    },
    {
      "cell_type": "code",
      "source": [
        "marvel_df.Rating.value_counts()"
      ],
      "metadata": {
        "colab": {
          "base_uri": "https://localhost:8080/"
        },
        "id": "wUbbOtnRv_i5",
        "outputId": "498b6c50-f5a9-4914-b6bf-1110da337918"
      },
      "execution_count": 10,
      "outputs": [
        {
          "output_type": "execute_result",
          "data": {
            "text/plain": [
              "None                                   22373\n",
              " Rated T+                               3204\n",
              " T                                      1564\n",
              " Rated T                                1407\n",
              " Parental Advisory                      1205\n",
              " T+                                     1000\n",
              " All Ages                                893\n",
              " A                                       635\n",
              " Marvel Psr                              534\n",
              " MARVEL PSR                              526\n",
              " ALL AGES                                304\n",
              " PARENTAL ADVISORY                       207\n",
              " RATED T+                                206\n",
              " Rated a                                 135\n",
              " EXPLICIT CONTENT                        110\n",
              " RATED A                                 105\n",
              " No Rating                               100\n",
              " RATED T                                  86\n",
              " PARENTAL ADVISORY/EXPLICIT CONTENT       70\n",
              " Parental Advisory/Explicit Content       69\n",
              " Mature                                   44\n",
              " Explicit Content                         39\n",
              " Max                                      28\n",
              " Rated A                                  28\n",
              " PARENTAL ADVISORYSLC                     25\n",
              " NOT IN ORACLE                            20\n",
              " MARVEL PSR+                              18\n",
              " Parental Guidance                        15\n",
              " Parental AdvisorySLC                     11\n",
              " Parental Advisoryslc                      8\n",
              " Not in Oracle                             7\n",
              " MAX                                       6\n",
              " Marvel Psr+                               3\n",
              " PARENTAL SUPERVISION                      3\n",
              " NO RATING                                 2\n",
              " Ages 10 & Up                              1\n",
              " Ages 9+                                   1\n",
              "Name: Rating, dtype: int64"
            ]
          },
          "metadata": {},
          "execution_count": 10
        }
      ]
    },
    {
      "cell_type": "code",
      "source": [
        "topRating = marvel_df.Rating.where(marvel_df.Rating != 'None').value_counts().sort_values(ascending=True).tail(10)"
      ],
      "metadata": {
        "id": "bvzv-Mqutc21"
      },
      "execution_count": 11,
      "outputs": []
    },
    {
      "cell_type": "code",
      "source": [
        "topRating.plot(kind='barh', colormap='viridis')\n",
        "plt.title('CLASSIFIAÇÃO:')\n",
        "plt.show()"
      ],
      "metadata": {
        "colab": {
          "base_uri": "https://localhost:8080/",
          "height": 471
        },
        "id": "QYNGSIBYuPXw",
        "outputId": "69169bc3-0a9e-43df-a345-22b6672a4a36"
      },
      "execution_count": 42,
      "outputs": [
        {
          "output_type": "display_data",
          "data": {
            "text/plain": [
              "<Figure size 1000x500 with 1 Axes>"
            ],
            "image/png": "[encoded data removed]"
          },
          "metadata": {}
        }
      ]
    },
    {
      "cell_type": "markdown",
      "source": [
        "# Autores:"
      ],
      "metadata": {
        "id": "AZXFshB1rh-K"
      }
    },
    {
      "cell_type": "code",
      "source": [
        "marvel_df.writer.value_counts()"
      ],
      "metadata": {
        "colab": {
          "base_uri": "https://localhost:8080/"
        },
        "id": "0GGT28TVrple",
        "outputId": "eedcc21f-736e-4cb0-d40d-3afe2217bd68"
      },
      "execution_count": 13,
      "outputs": [
        {
          "output_type": "execute_result",
          "data": {
            "text/plain": [
              "None                           7397\n",
              "Brian Michael Bendis            859\n",
              "Chris Claremont                 685\n",
              "Stan Lee                        638\n",
              "Peter David                     609\n",
              "                               ... \n",
              "Dario Brizuela                    1\n",
              "Joe Quesada, Frank Tieri          1\n",
              "Kurt Busiek, Joe Casey            1\n",
              "Peter Gillis, Ralph Macchio       1\n",
              "John Cerilli, Frank Tieri         1\n",
              "Name: writer, Length: 3083, dtype: int64"
            ]
          },
          "metadata": {},
          "execution_count": 13
        }
      ]
    },
    {
      "cell_type": "code",
      "source": [
        "topWriter = marvel_df.writer.where(marvel_df.writer != 'None').value_counts().sort_values(ascending=True).tail(10)"
      ],
      "metadata": {
        "id": "gQJgiVpdxGWE"
      },
      "execution_count": 14,
      "outputs": []
    },
    {
      "cell_type": "code",
      "source": [
        "topWriter.plot(kind='barh', color='gray')\n",
        "plt.title('TOP AUTORES:')\n",
        "plt.show()"
      ],
      "metadata": {
        "colab": {
          "base_uri": "https://localhost:8080/",
          "height": 452
        },
        "id": "mIm0eae1x3wT",
        "outputId": "b2556f98-7943-4673-8f32-00fef0725767"
      },
      "execution_count": 15,
      "outputs": [
        {
          "output_type": "display_data",
          "data": {
            "text/plain": [
              "<Figure size 640x480 with 1 Axes>"
            ],
            "image/png": "[encoded data removed]"
          },
          "metadata": {}
        }
      ]
    },
    {
      "cell_type": "code",
      "source": [
        "marvel_df.penciler.value_counts()"
      ],
      "metadata": {
        "colab": {
          "base_uri": "https://localhost:8080/"
        },
        "id": "9d3x3ircwtqG",
        "outputId": "12c5fffc-2be8-4af3-c215-81786528304b"
      },
      "execution_count": 16,
      "outputs": [
        {
          "output_type": "execute_result",
          "data": {
            "text/plain": [
              "None                                            9510\n",
              "Sal Buscema                                      394\n",
              "Jack Kirby                                       377\n",
              "John Romita                                      339\n",
              "John Byrne                                       335\n",
              "                                                ... \n",
              "Patch Zircher, Sean Chen                           1\n",
              "Patch Zircher, Anthony Williams                    1\n",
              "Sean Chen, Terry Shoemaker, Salvador Larroca       1\n",
              "Sean Chen, Patch Zircher                           1\n",
              "Daniel Acuna, Rafa Sandoval                        1\n",
              "Name: penciler, Length: 3916, dtype: int64"
            ]
          },
          "metadata": {},
          "execution_count": 16
        }
      ]
    },
    {
      "cell_type": "code",
      "source": [
        "topPenciler = marvel_df.penciler.where(marvel_df.penciler != 'None').value_counts().sort_values(ascending=True).tail(10)"
      ],
      "metadata": {
        "id": "seMxYUaEyNaQ"
      },
      "execution_count": 17,
      "outputs": []
    },
    {
      "cell_type": "code",
      "source": [
        "topPenciler.plot(kind='barh', color='gray')\n",
        "plt.title('TOP PINTORES:')\n",
        "plt.show()"
      ],
      "metadata": {
        "colab": {
          "base_uri": "https://localhost:8080/",
          "height": 452
        },
        "id": "Fs2Snp0wyZ9Q",
        "outputId": "08177a56-6e61-4035-cfb2-7daf52ff8e61"
      },
      "execution_count": 18,
      "outputs": [
        {
          "output_type": "display_data",
          "data": {
            "text/plain": [
              "<Figure size 640x480 with 1 Axes>"
            ],
            "image/png": "[encoded data removed]"
          },
          "metadata": {}
        }
      ]
    },
    {
      "cell_type": "code",
      "source": [
        "topAutores = marvel_df.filter(items=['penciler', 'writer']).where(marvel_df.writer == marvel_df.penciler)"
      ],
      "metadata": {
        "id": "zKvegNK_dWeO"
      },
      "execution_count": 50,
      "outputs": []
    },
    {
      "cell_type": "code",
      "source": [
        "topAutores = topAutores.dropna()"
      ],
      "metadata": {
        "id": "5_xYupCidxE-"
      },
      "execution_count": 52,
      "outputs": []
    },
    {
      "cell_type": "code",
      "source": [
        "topAutores.value_counts().head(10)"
      ],
      "metadata": {
        "colab": {
          "base_uri": "https://localhost:8080/"
        },
        "id": "qVvKsbKWeq_8",
        "outputId": "6ae90dc4-a40e-430a-a193-0d854defccb3"
      },
      "execution_count": 55,
      "outputs": [
        {
          "output_type": "execute_result",
          "data": {
            "text/plain": [
              "penciler            writer            \n",
              "None                None                  7397\n",
              "John Byrne          John Byrne             197\n",
              "Jack Kirby          Jack Kirby              72\n",
              "Alan Davis          Alan Davis              48\n",
              "Jim Starlin         Jim Starlin             43\n",
              "Jim Valentino       Jim Valentino           27\n",
              "Various             Various                 24\n",
              "Dan Jurgens         Dan Jurgens             24\n",
              "Walter M. Simonson  Walter M. Simonson      21\n",
              "Frank Miller        Frank Miller            20\n",
              "dtype: int64"
            ]
          },
          "metadata": {},
          "execution_count": 55
        }
      ]
    },
    {
      "cell_type": "code",
      "source": [
        "topAutores.where(marvel_df.penciler != 'None').value_counts().sort_values(ascending=True).tail(10).plot(kind='barh', color='gray')\n",
        "plt.title('TOP ESCRITORES DESENHISTAS')\n",
        "plt.show()"
      ],
      "metadata": {
        "colab": {
          "base_uri": "https://localhost:8080/",
          "height": 468
        },
        "id": "gC4ze6CdfM5h",
        "outputId": "9e5fa22d-07e3-4c69-f113-bedc50b327d1"
      },
      "execution_count": 64,
      "outputs": [
        {
          "output_type": "display_data",
          "data": {
            "text/plain": [
              "<Figure size 1000x500 with 1 Axes>"
            ],
            "image/png": "[encoded data removed]"
          },
          "metadata": {}
        }
      ]
    },
    {
      "cell_type": "markdown",
      "source": [
        "autores pintores"
      ],
      "metadata": {
        "id": "ZweiyJrly8vM"
      }
    },
    {
      "cell_type": "markdown",
      "source": [
        "# Obras:"
      ],
      "metadata": {
        "id": "0JDPwpB7sJK2"
      }
    },
    {
      "cell_type": "code",
      "source": [
        "marvel_df.comic_name.value_counts()"
      ],
      "metadata": {
        "colab": {
          "base_uri": "https://localhost:8080/"
        },
        "id": "nsqNuhDjzcbA",
        "outputId": "d06c6ea1-ee74-41b1-eac1-54b5bdfe2be3"
      },
      "execution_count": 19,
      "outputs": [
        {
          "output_type": "execute_result",
          "data": {
            "text/plain": [
              "Uncanny X-Men (1981 - 2011)                                                           588\n",
              "The Amazing Spider-Man (1963 - 1998)                                                  463\n",
              "Fantastic Four (1961 - 1998)                                                          447\n",
              "Avengers (1963 - 1996)                                                                431\n",
              "Incredible Hulk (1962 - 1999)                                                         400\n",
              "                                                                                     ... \n",
              "MARVEL'S HERO PROJECT SEASON 1: HERE COMES HAILEY [JAPANESE] (2019 - Present)           1\n",
              "MARVEL'S HERO PROJECT SEASON 1: HERE COMES HAILEY [LATAM SPANISH] (2019 - Present)      1\n",
              "MARVEL'S HERO PROJECT SEASON 1: HERE COMES HAILEY [NORWEGIAN] (2019 - Present)          1\n",
              "MARVEL'S HERO PROJECT SEASON 1: HERE COMES HAILEY [PORTUGUESE] (2019 - Present)         1\n",
              "MARVEL'S HERO PROJECT SEASON 1: THRILLING TOKATA [DANISH] (2020 - Present)              1\n",
              "Name: comic_name, Length: 4935, dtype: int64"
            ]
          },
          "metadata": {},
          "execution_count": 19
        }
      ]
    },
    {
      "cell_type": "code",
      "source": [
        "marvel_df.comic_name.value_counts().tail(40)"
      ],
      "metadata": {
        "colab": {
          "base_uri": "https://localhost:8080/"
        },
        "id": "QRyhziE-s699",
        "outputId": "e7a5ded4-c283-4255-8d5c-9837e1b34ade"
      },
      "execution_count": 20,
      "outputs": [
        {
          "output_type": "execute_result",
          "data": {
            "text/plain": [
              "MARVEL'S HERO PROJECT SEASON 1: HIGH-FLYING HAILEY [LATAM SPANISH] (2020 - Present)           1\n",
              "MARVEL'S HERO PROJECT SEASON 1: HIGH-FLYING HAILEY [NORWEGIAN] (2020 - Present)               1\n",
              "MARVEL'S HERO PROJECT SEASON 1: HIGH-FLYING HAILEY [SPANISH] (2020 - Present)                 1\n",
              "MARVEL'S HERO PROJECT SEASON 1: GENIUS GITANJALI [FRENCH] (2020 - Present)                    1\n",
              "MARVEL'S HERO PROJECT SEASON 1: HIGH-FLYING HAILEY [SWEDISH] (2020 - Present)                 1\n",
              "Marvel's Hero Project Season 1: High-Kickin' Izzy (2019)                                      1\n",
              "MARVEL'S HERO PROJECT SEASON 1: HIGH-KICKIN' IZZY [BRAZILIAN PORTUGUESE] (2020 - Present)     1\n",
              "MARVEL'S HERO PROJECT SEASON 1: HIGH-KICKIN' IZZY [DANISH] (2020 - Present)                   1\n",
              "MARVEL'S HERO PROJECT SEASON 1: HIGH-KICKIN' IZZY [DUTCH] (2020 - Present)                    1\n",
              "MARVEL'S HERO PROJECT SEASON 1: HIGH-KICKIN' IZZY [FINNISH] (2020 - Present)                  1\n",
              "MARVEL'S HERO PROJECT SEASON 1: HIGH-KICKIN' IZZY [FRENCH CANADIAN] (2020 - Present)          1\n",
              "MARVEL'S HERO PROJECT SEASON 1: HIGH-KICKIN' IZZY [FRENCH] (2020 - Present)                   1\n",
              "MARVEL'S HERO PROJECT SEASON 1: HIGH-KICKIN' IZZY [GERMAN] (2020 - Present)                   1\n",
              "MARVEL'S HERO PROJECT SEASON 1: HIGH-KICKIN' IZZY [ITALIAN] (2020 - Present)                  1\n",
              "MARVEL'S HERO PROJECT SEASON 1: HIGH-FLYING HAILEY [BRAZILIAN PORTUGUESE] (2020 - Present)    1\n",
              "Marvel's Hero Project Season 1: High-Flying Hailey (2019)                                     1\n",
              "MARVEL'S HERO PROJECT SEASON 1: HERE COMES HAILEY [SWEDISH] (2019 - Present)                  1\n",
              "MARVEL'S HERO PROJECT SEASON 1: HERE COMES HAILEY [SPANISH] (2019 - Present)                  1\n",
              "MARVEL'S HERO PROJECT SEASON 1: GENIUS GITANJALI [GERMAN] (2020 - Present)                    1\n",
              "MARVEL'S HERO PROJECT SEASON 1: GENIUS GITANJALI [ITALIAN] (2020 - Present)                   1\n",
              "MARVEL'S HERO PROJECT SEASON 1: GENIUS GITANJALI [JAPANESE] (2020 - Present)                  1\n",
              "MARVEL'S HERO PROJECT SEASON 1: GENIUS GITANJALI [LATAM SPANISH] (2020 - Present)             1\n",
              "MARVEL'S HERO PROJECT SEASON 1: GENIUS GITANJALI [NORWEGIAN] (2020 - Present)                 1\n",
              "MARVEL'S HERO PROJECT SEASON 1: GENIUS GITANJALI [PORTUGUESE] (2020 - Present)                1\n",
              "MARVEL'S HERO PROJECT SEASON 1: GENIUS GITANJALI [SPANISH] (2020 - Present)                   1\n",
              "MARVEL'S HERO PROJECT SEASON 1: GENIUS GITANJALI [SWEDISH] (2020 - Present)                   1\n",
              "Marvel's Hero Project Season 1: Here Comes Hailey (2019)                                      1\n",
              "MARVEL'S HERO PROJECT SEASON 1: HERE COMES HAILEY [BRAZILIAN PORTUGUESE] (2019 - Present)     1\n",
              "MARVEL'S HERO PROJECT SEASON 1: HERE COMES HAILEY [DANISH] (2019 - Present)                   1\n",
              "MARVEL'S HERO PROJECT SEASON 1: HERE COMES HAILEY [DUTCH] (2019 - Present)                    1\n",
              "MARVEL'S HERO PROJECT SEASON 1: HERE COMES HAILEY [FINNISH] (2019 - Present)                  1\n",
              "MARVEL'S HERO PROJECT SEASON 1: HERE COMES HAILEY [FRENCH CANADIAN] (2019 - Present)          1\n",
              "MARVEL'S HERO PROJECT SEASON 1: HERE COMES HAILEY [FRENCH] (2019 - Present)                   1\n",
              "MARVEL'S HERO PROJECT SEASON 1: HERE COMES HAILEY [GERMAN] (2019 - Present)                   1\n",
              "MARVEL'S HERO PROJECT SEASON 1: HERE COMES HAILEY [ITALIAN] (2019 - Present)                  1\n",
              "MARVEL'S HERO PROJECT SEASON 1: HERE COMES HAILEY [JAPANESE] (2019 - Present)                 1\n",
              "MARVEL'S HERO PROJECT SEASON 1: HERE COMES HAILEY [LATAM SPANISH] (2019 - Present)            1\n",
              "MARVEL'S HERO PROJECT SEASON 1: HERE COMES HAILEY [NORWEGIAN] (2019 - Present)                1\n",
              "MARVEL'S HERO PROJECT SEASON 1: HERE COMES HAILEY [PORTUGUESE] (2019 - Present)               1\n",
              "MARVEL'S HERO PROJECT SEASON 1: THRILLING TOKATA [DANISH] (2020 - Present)                    1\n",
              "Name: comic_name, dtype: int64"
            ]
          },
          "metadata": {},
          "execution_count": 20
        }
      ]
    },
    {
      "cell_type": "code",
      "source": [
        "topComic = marvel_df.comic_name.value_counts().sort_values(ascending=True).tail(10)"
      ],
      "metadata": {
        "id": "ELQh6HEgzeU-"
      },
      "execution_count": 21,
      "outputs": []
    },
    {
      "cell_type": "code",
      "source": [
        "topComic"
      ],
      "metadata": {
        "colab": {
          "base_uri": "https://localhost:8080/"
        },
        "id": "U59Vw5BG22jp",
        "outputId": "be6b371f-585e-4d51-944c-6802d4ac6bc0"
      },
      "execution_count": 22,
      "outputs": [
        {
          "output_type": "execute_result",
          "data": {
            "text/plain": [
              "Amazing Spider-Man (1999 - 2013)        277\n",
              "Iron Man (1968 - 1996)                  349\n",
              "Captain America (1968 - 1996)           369\n",
              "Daredevil (1964 - 1998)                 393\n",
              "Thor (1966 - 1996)                      397\n",
              "Incredible Hulk (1962 - 1999)           400\n",
              "Avengers (1963 - 1996)                  431\n",
              "Fantastic Four (1961 - 1998)            447\n",
              "The Amazing Spider-Man (1963 - 1998)    463\n",
              "Uncanny X-Men (1981 - 2011)             588\n",
              "Name: comic_name, dtype: int64"
            ]
          },
          "metadata": {},
          "execution_count": 22
        }
      ]
    },
    {
      "cell_type": "code",
      "source": [
        "topComic.plot(kind='barh')\n",
        "plt.title('CLASSIFIAÇÃO:')\n",
        "plt.show()"
      ],
      "metadata": {
        "colab": {
          "base_uri": "https://localhost:8080/",
          "height": 455
        },
        "id": "qDNIMnUgzvZS",
        "outputId": "cbd8582c-6b5f-49cd-a6ad-e8cefcc5cf8f"
      },
      "execution_count": 23,
      "outputs": [
        {
          "output_type": "display_data",
          "data": {
            "text/plain": [
              "<Figure size 640x480 with 1 Axes>"
            ],
            "image/png": "[encoded data removed]"
          },
          "metadata": {}
        }
      ]
    },
    {
      "cell_type": "code",
      "source": [
        "table_Comic = marvel_df.filter(items=['comic_name', 'Rating', 'Format'])\\\n",
        ".where(marvel_df.comic_name.isin(['Amazing Spider-Man (1999 - 2013)', 'Iron Man (1968 - 1996)', 'Captain America (1968 - 1996)']))\\\n",
        "       .groupby(['comic_name', 'Rating', 'Format']).count()"
      ],
      "metadata": {
        "id": "o_j9-cFL0ftZ"
      },
      "execution_count": 24,
      "outputs": []
    },
    {
      "cell_type": "code",
      "source": [
        "table_Comic"
      ],
      "metadata": {
        "colab": {
          "base_uri": "https://localhost:8080/",
          "height": 596
        },
        "id": "XxTAYvA71U2O",
        "outputId": "1cf65d33-d114-4d20-8309-12ec669c6e8d"
      },
      "execution_count": 25,
      "outputs": [
        {
          "output_type": "execute_result",
          "data": {
            "text/plain": [
              "Empty DataFrame\n",
              "Columns: []\n",
              "Index: [(Amazing Spider-Man (1999 - 2013),  MARVEL PSR,  Trade Paperback), (Amazing Spider-Man (1999 - 2013),  RATED T+,  Trade Paperback), (Amazing Spider-Man (1999 - 2013),  Rated T,  Comic), (Amazing Spider-Man (1999 - 2013),  Rated T+,  Comic), (Amazing Spider-Man (1999 - 2013),  T+,  Comic), (Amazing Spider-Man (1999 - 2013), None, None), (Captain America (1968 - 1996),  ALL AGES,  Hardcover), (Captain America (1968 - 1996),  ALL AGES,  Trade Paperback), (Captain America (1968 - 1996),  All Ages,  Hardcover), (Captain America (1968 - 1996),  MARVEL PSR,  Trade Paperback), (Captain America (1968 - 1996),  T+,  Trade Paperback), (Captain America (1968 - 1996), None,  Comic), (Captain America (1968 - 1996), None, None), (Iron Man (1968 - 1996),  RATED A,  Trade Paperback), (Iron Man (1968 - 1996),  T+,  Hardcover), (Iron Man (1968 - 1996), None,  Comic), (Iron Man (1968 - 1996), None, None)]"
            ],
            "text/html": [
              "\n",
              "  <div id=\"df-853c2276-3a49-40d0-b3b4-f18712846b1c\" class=\"colab-df-container\">\n",
              "    <div>\n",
              "<style scoped>\n",
              "    .dataframe tbody tr th:only-of-type {\n",
              "        vertical-align: middle;\n",
              "    }\n",
              "\n",
              "    .dataframe tbody tr th {\n",
              "        vertical-align: top;\n",
              "    }\n",
              "\n",
              "    .dataframe thead th {\n",
              "        text-align: right;\n",
              "    }\n",
              "</style>\n",
              "<table border=\"1\" class=\"dataframe\">\n",
              "  <thead>\n",
              "    <tr style=\"text-align: right;\">\n",
              "      <th></th>\n",
              "      <th></th>\n",
              "      <th></th>\n",
              "    </tr>\n",
              "    <tr>\n",
              "      <th>comic_name</th>\n",
              "      <th>Rating</th>\n",
              "      <th>Format</th>\n",
              "    </tr>\n",
              "  </thead>\n",
              "  <tbody>\n",
              "    <tr>\n",
              "      <th rowspan=\"6\" valign=\"top\">Amazing Spider-Man (1999 - 2013)</th>\n",
              "      <th>MARVEL PSR</th>\n",
              "      <th>Trade Paperback</th>\n",
              "    </tr>\n",
              "    <tr>\n",
              "      <th>RATED T+</th>\n",
              "      <th>Trade Paperback</th>\n",
              "    </tr>\n",
              "    <tr>\n",
              "      <th>Rated T</th>\n",
              "      <th>Comic</th>\n",
              "    </tr>\n",
              "    <tr>\n",
              "      <th>Rated T+</th>\n",
              "      <th>Comic</th>\n",
              "    </tr>\n",
              "    <tr>\n",
              "      <th>T+</th>\n",
              "      <th>Comic</th>\n",
              "    </tr>\n",
              "    <tr>\n",
              "      <th>None</th>\n",
              "      <th>None</th>\n",
              "    </tr>\n",
              "    <tr>\n",
              "      <th rowspan=\"7\" valign=\"top\">Captain America (1968 - 1996)</th>\n",
              "      <th rowspan=\"2\" valign=\"top\">ALL AGES</th>\n",
              "      <th>Hardcover</th>\n",
              "    </tr>\n",
              "    <tr>\n",
              "      <th>Trade Paperback</th>\n",
              "    </tr>\n",
              "    <tr>\n",
              "      <th>All Ages</th>\n",
              "      <th>Hardcover</th>\n",
              "    </tr>\n",
              "    <tr>\n",
              "      <th>MARVEL PSR</th>\n",
              "      <th>Trade Paperback</th>\n",
              "    </tr>\n",
              "    <tr>\n",
              "      <th>T+</th>\n",
              "      <th>Trade Paperback</th>\n",
              "    </tr>\n",
              "    <tr>\n",
              "      <th rowspan=\"2\" valign=\"top\">None</th>\n",
              "      <th>Comic</th>\n",
              "    </tr>\n",
              "    <tr>\n",
              "      <th>None</th>\n",
              "    </tr>\n",
              "    <tr>\n",
              "      <th rowspan=\"4\" valign=\"top\">Iron Man (1968 - 1996)</th>\n",
              "      <th>RATED A</th>\n",
              "      <th>Trade Paperback</th>\n",
              "    </tr>\n",
              "    <tr>\n",
              "      <th>T+</th>\n",
              "      <th>Hardcover</th>\n",
              "    </tr>\n",
              "    <tr>\n",
              "      <th rowspan=\"2\" valign=\"top\">None</th>\n",
              "      <th>Comic</th>\n",
              "    </tr>\n",
              "    <tr>\n",
              "      <th>None</th>\n",
              "    </tr>\n",
              "  </tbody>\n",
              "</table>\n",
              "</div>\n",
              "    <div class=\"colab-df-buttons\">\n",
              "\n",
              "  <div class=\"colab-df-container\">\n",
              "    <button class=\"colab-df-convert\" onclick=\"convertToInteractive('df-853c2276-3a49-40d0-b3b4-f18712846b1c')\"\n",
              "            title=\"Convert this dataframe to an interactive table.\"\n",
              "            style=\"display:none;\">\n",
              "\n",
              "  <svg xmlns=\"http://www.w3.org/2000/svg\" height=\"24px\" viewBox=\"0 -960 960 960\">\n",
              "    <path d=\"M120-120v-720h720v720H120Zm60-500h600v-160H180v160Zm220 220h160v-160H400v160Zm0 220h160v-160H400v160ZM180-400h160v-160H180v160Zm440 0h160v-160H620v160ZM180-180h160v-160H180v160Zm440 0h160v-160H620v160Z\"/>\n",
              "  </svg>\n",
              "    </button>\n",
              "\n",
              "  <style>\n",
              "    .colab-df-container {\n",
              "      display:flex;\n",
              "      gap: 12px;\n",
              "    }\n",
              "\n",
              "    .colab-df-convert {\n",
              "      background-color: #E8F0FE;\n",
              "      border: none;\n",
              "      border-radius: 50%;\n",
              "      cursor: pointer;\n",
              "      display: none;\n",
              "      fill: #1967D2;\n",
              "      height: 32px;\n",
              "      padding: 0 0 0 0;\n",
              "      width: 32px;\n",
              "    }\n",
              "\n",
              "    .colab-df-convert:hover {\n",
              "      background-color: #E2EBFA;\n",
              "      box-shadow: 0px 1px 2px rgba(60, 64, 67, 0.3), 0px 1px 3px 1px rgba(60, 64, 67, 0.15);\n",
              "      fill: #174EA6;\n",
              "    }\n",
              "\n",
              "    .colab-df-buttons div {\n",
              "      margin-bottom: 4px;\n",
              "    }\n",
              "\n",
              "    [theme=dark] .colab-df-convert {\n",
              "      background-color: #3B4455;\n",
              "      fill: #D2E3FC;\n",
              "    }\n",
              "\n",
              "    [theme=dark] .colab-df-convert:hover {\n",
              "      background-color: #434B5C;\n",
              "      box-shadow: 0px 1px 3px 1px rgba(0, 0, 0, 0.15);\n",
              "      filter: drop-shadow(0px 1px 2px rgba(0, 0, 0, 0.3));\n",
              "      fill: #FFFFFF;\n",
              "    }\n",
              "  </style>\n",
              "\n",
              "    <script>\n",
              "      const buttonEl =\n",
              "        document.querySelector('#df-853c2276-3a49-40d0-b3b4-f18712846b1c button.colab-df-convert');\n",
              "      buttonEl.style.display =\n",
              "        google.colab.kernel.accessAllowed ? 'block' : 'none';\n",
              "\n",
              "      async function convertToInteractive(key) {\n",
              "        const element = document.querySelector('#df-853c2276-3a49-40d0-b3b4-f18712846b1c');\n",
              "        const dataTable =\n",
              "          await google.colab.kernel.invokeFunction('convertToInteractive',\n",
              "                                                    [key], {});\n",
              "        if (!dataTable) return;\n",
              "\n",
              "        const docLinkHtml = 'Like what you see? Visit the ' +\n",
              "          '<a target=\"_blank\" href=https://colab.research.google.com/notebooks/data_table.ipynb>data table notebook</a>'\n",
              "          + ' to learn more about interactive tables.';\n",
              "        element.innerHTML = '';\n",
              "        dataTable['output_type'] = 'display_data';\n",
              "        await google.colab.output.renderOutput(dataTable, element);\n",
              "        const docLink = document.createElement('div');\n",
              "        docLink.innerHTML = docLinkHtml;\n",
              "        element.appendChild(docLink);\n",
              "      }\n",
              "    </script>\n",
              "  </div>\n",
              "\n",
              "\n",
              "<div id=\"df-05a76ff5-c516-4c3f-b42c-e65df470a910\">\n",
              "  <button class=\"colab-df-quickchart\" onclick=\"quickchart('df-05a76ff5-c516-4c3f-b42c-e65df470a910')\"\n",
              "            title=\"Suggest charts\"\n",
              "            style=\"display:none;\">\n",
              "\n",
              "<svg xmlns=\"http://www.w3.org/2000/svg\" height=\"24px\"viewBox=\"0 0 24 24\"\n",
              "     width=\"24px\">\n",
              "    <g>\n",
              "        <path d=\"M19 3H5c-1.1 0-2 .9-2 2v14c0 1.1.9 2 2 2h14c1.1 0 2-.9 2-2V5c0-1.1-.9-2-2-2zM9 17H7v-7h2v7zm4 0h-2V7h2v10zm4 0h-2v-4h2v4z\"/>\n",
              "    </g>\n",
              "</svg>\n",
              "  </button>\n",
              "\n",
              "<style>\n",
              "  .colab-df-quickchart {\n",
              "      --bg-color: #E8F0FE;\n",
              "      --fill-color: #1967D2;\n",
              "      --hover-bg-color: #E2EBFA;\n",
              "      --hover-fill-color: #174EA6;\n",
              "      --disabled-fill-color: #AAA;\n",
              "      --disabled-bg-color: #DDD;\n",
              "  }\n",
              "\n",
              "  [theme=dark] .colab-df-quickchart {\n",
              "      --bg-color: #3B4455;\n",
              "      --fill-color: #D2E3FC;\n",
              "      --hover-bg-color: #434B5C;\n",
              "      --hover-fill-color: #FFFFFF;\n",
              "      --disabled-bg-color: #3B4455;\n",
              "      --disabled-fill-color: #666;\n",
              "  }\n",
              "\n",
              "  .colab-df-quickchart {\n",
              "    background-color: var(--bg-color);\n",
              "    border: none;\n",
              "    border-radius: 50%;\n",
              "    cursor: pointer;\n",
              "    display: none;\n",
              "    fill: var(--fill-color);\n",
              "    height: 32px;\n",
              "    padding: 0;\n",
              "    width: 32px;\n",
              "  }\n",
              "\n",
              "  .colab-df-quickchart:hover {\n",
              "    background-color: var(--hover-bg-color);\n",
              "    box-shadow: 0 1px 2px rgba(60, 64, 67, 0.3), 0 1px 3px 1px rgba(60, 64, 67, 0.15);\n",
              "    fill: var(--button-hover-fill-color);\n",
              "  }\n",
              "\n",
              "  .colab-df-quickchart-complete:disabled,\n",
              "  .colab-df-quickchart-complete:disabled:hover {\n",
              "    background-color: var(--disabled-bg-color);\n",
              "    fill: var(--disabled-fill-color);\n",
              "    box-shadow: none;\n",
              "  }\n",
              "\n",
              "  .colab-df-spinner {\n",
              "    border: 2px solid var(--fill-color);\n",
              "    border-color: transparent;\n",
              "    border-bottom-color: var(--fill-color);\n",
              "    animation:\n",
              "      spin 1s steps(1) infinite;\n",
              "  }\n",
              "\n",
              "  @keyframes spin {\n",
              "    0% {\n",
              "      border-color: transparent;\n",
              "      border-bottom-color: var(--fill-color);\n",
              "      border-left-color: var(--fill-color);\n",
              "    }\n",
              "    20% {\n",
              "      border-color: transparent;\n",
              "      border-left-color: var(--fill-color);\n",
              "      border-top-color: var(--fill-color);\n",
              "    }\n",
              "    30% {\n",
              "      border-color: transparent;\n",
              "      border-left-color: var(--fill-color);\n",
              "      border-top-color: var(--fill-color);\n",
              "      border-right-color: var(--fill-color);\n",
              "    }\n",
              "    40% {\n",
              "      border-color: transparent;\n",
              "      border-right-color: var(--fill-color);\n",
              "      border-top-color: var(--fill-color);\n",
              "    }\n",
              "    60% {\n",
              "      border-color: transparent;\n",
              "      border-right-color: var(--fill-color);\n",
              "    }\n",
              "    80% {\n",
              "      border-color: transparent;\n",
              "      border-right-color: var(--fill-color);\n",
              "      border-bottom-color: var(--fill-color);\n",
              "    }\n",
              "    90% {\n",
              "      border-color: transparent;\n",
              "      border-bottom-color: var(--fill-color);\n",
              "    }\n",
              "  }\n",
              "</style>\n",
              "\n",
              "  <script>\n",
              "    async function quickchart(key) {\n",
              "      const quickchartButtonEl =\n",
              "        document.querySelector('#' + key + ' button');\n",
              "      quickchartButtonEl.disabled = true;  // To prevent multiple clicks.\n",
              "      quickchartButtonEl.classList.add('colab-df-spinner');\n",
              "      try {\n",
              "        const charts = await google.colab.kernel.invokeFunction(\n",
              "            'suggestCharts', [key], {});\n",
              "      } catch (error) {\n",
              "        console.error('Error during call to suggestCharts:', error);\n",
              "      }\n",
              "      quickchartButtonEl.classList.remove('colab-df-spinner');\n",
              "      quickchartButtonEl.classList.add('colab-df-quickchart-complete');\n",
              "    }\n",
              "    (() => {\n",
              "      let quickchartButtonEl =\n",
              "        document.querySelector('#df-05a76ff5-c516-4c3f-b42c-e65df470a910 button');\n",
              "      quickchartButtonEl.style.display =\n",
              "        google.colab.kernel.accessAllowed ? 'block' : 'none';\n",
              "    })();\n",
              "  </script>\n",
              "</div>\n",
              "\n",
              "  <div id=\"id_cc4a5c1b-f89c-42f6-984e-5121bce37ceb\">\n",
              "    <style>\n",
              "      .colab-df-generate {\n",
              "        background-color: #E8F0FE;\n",
              "        border: none;\n",
              "        border-radius: 50%;\n",
              "        cursor: pointer;\n",
              "        display: none;\n",
              "        fill: #1967D2;\n",
              "        height: 32px;\n",
              "        padding: 0 0 0 0;\n",
              "        width: 32px;\n",
              "      }\n",
              "\n",
              "      .colab-df-generate:hover {\n",
              "        background-color: #E2EBFA;\n",
              "        box-shadow: 0px 1px 2px rgba(60, 64, 67, 0.3), 0px 1px 3px 1px rgba(60, 64, 67, 0.15);\n",
              "        fill: #174EA6;\n",
              "      }\n",
              "\n",
              "      [theme=dark] .colab-df-generate {\n",
              "        background-color: #3B4455;\n",
              "        fill: #D2E3FC;\n",
              "      }\n",
              "\n",
              "      [theme=dark] .colab-df-generate:hover {\n",
              "        background-color: #434B5C;\n",
              "        box-shadow: 0px 1px 3px 1px rgba(0, 0, 0, 0.15);\n",
              "        filter: drop-shadow(0px 1px 2px rgba(0, 0, 0, 0.3));\n",
              "        fill: #FFFFFF;\n",
              "      }\n",
              "    </style>\n",
              "    <button class=\"colab-df-generate\" onclick=\"generateWithVariable('table_Comic')\"\n",
              "            title=\"Generate code using this dataframe.\"\n",
              "            style=\"display:none;\">\n",
              "\n",
              "  <svg xmlns=\"http://www.w3.org/2000/svg\" height=\"24px\"viewBox=\"0 0 24 24\"\n",
              "       width=\"24px\">\n",
              "    <path d=\"M7,19H8.4L18.45,9,17,7.55,7,17.6ZM5,21V16.75L18.45,3.32a2,2,0,0,1,2.83,0l1.4,1.43a1.91,1.91,0,0,1,.58,1.4,1.91,1.91,0,0,1-.58,1.4L9.25,21ZM18.45,9,17,7.55Zm-12,3A5.31,5.31,0,0,0,4.9,8.1,5.31,5.31,0,0,0,1,6.5,5.31,5.31,0,0,0,4.9,4.9,5.31,5.31,0,0,0,6.5,1,5.31,5.31,0,0,0,8.1,4.9,5.31,5.31,0,0,0,12,6.5,5.46,5.46,0,0,0,6.5,12Z\"/>\n",
              "  </svg>\n",
              "    </button>\n",
              "    <script>\n",
              "      (() => {\n",
              "      const buttonEl =\n",
              "        document.querySelector('#id_cc4a5c1b-f89c-42f6-984e-5121bce37ceb button.colab-df-generate');\n",
              "      buttonEl.style.display =\n",
              "        google.colab.kernel.accessAllowed ? 'block' : 'none';\n",
              "\n",
              "      buttonEl.onclick = () => {\n",
              "        google.colab.notebook.generateWithVariable('table_Comic');\n",
              "      }\n",
              "      })();\n",
              "    </script>\n",
              "  </div>\n",
              "\n",
              "    </div>\n",
              "  </div>\n"
            ],
            "application/vnd.google.colaboratory.intrinsic+json": {
              "type": "dataframe",
              "variable_name": "table_Comic",
              "summary": "{\n  \"name\": \"table_Comic\",\n  \"rows\": 17,\n  \"fields\": []\n}"
            }
          },
          "metadata": {},
          "execution_count": 25
        }
      ]
    },
    {
      "cell_type": "code",
      "source": [
        "table_Comic2 = marvel_df.filter(items=['comic_name', 'writer', 'penciler'])\\\n",
        ".where(marvel_df.comic_name.isin(['Amazing Spider-Man (1999 - 2013)', 'Iron Man (1968 - 1996)', 'Captain America (1968 - 1996)']))\\\n",
        "       .groupby(['comic_name',  'writer', 'penciler']).count()"
      ],
      "metadata": {
        "id": "LH7sGwtO3j-R"
      },
      "execution_count": 26,
      "outputs": []
    },
    {
      "cell_type": "code",
      "source": [
        "table_Comic2"
      ],
      "metadata": {
        "colab": {
          "base_uri": "https://localhost:8080/",
          "height": 437
        },
        "id": "batmHqSv3tmb",
        "outputId": "dc6bd8b4-8454-40bf-a9c2-d66c6d8d6303"
      },
      "execution_count": 27,
      "outputs": [
        {
          "output_type": "execute_result",
          "data": {
            "text/plain": [
              "Empty DataFrame\n",
              "Columns: []\n",
              "Index: [(Amazing Spider-Man (1999 - 2013), Bob Gale, Barry Kitson), (Amazing Spider-Man (1999 - 2013), Bob Gale, Michael Mckone), (Amazing Spider-Man (1999 - 2013), Bob Gale, None), (Amazing Spider-Man (1999 - 2013), Bob Gale, Phil Jimenez), (Amazing Spider-Man (1999 - 2013), Bob Gale, Stan Lee, Zeb Wells, Mark Waid, Derec Donovan, Max Fiumara, John Romita, Colleen Doran), (Amazing Spider-Man (1999 - 2013), Brian Reed, Fred Van Lente, Javier Pulido, Mike Mayhew, Yanick Paquette, Luke Ross), (Amazing Spider-Man (1999 - 2013), Brian Reed, Kevin Grevioux, Pasqual Ferry), (Amazing Spider-Man (1999 - 2013), Christopher Yost, Dan Slott, Giuseppe Camuncoli), (Amazing Spider-Man (1999 - 2013), Christos Gage, Reilly Brown, Javier Pulido), (Amazing Spider-Man (1999 - 2013), Christos Gage, Dan Slott, Giuseppe Camuncoli), (Amazing Spider-Man (1999 - 2013), Christos Gage, Dan Slott, Steve McDaniel), (Amazing Spider-Man (1999 - 2013), Clay Mcleod Chapman, Joe Casey, Jennifer Van Meter, None), (Amazing Spider-Man (1999 - 2013), Connor Willumsen, Dan Slott), (Amazing Spider-Man (1999 - 2013), Dan Slott, Barry Kitson), (Amazing Spider-Man (1999 - 2013), Dan Slott, Dale Eaglesham, Barry Kitson), (Amazing Spider-Man (1999 - 2013), Dan Slott, Ed Mcguinness), (Amazing Spider-Man (1999 - 2013), Dan Slott, Giuseppe Camuncoli), (Amazing Spider-Man (1999 - 2013), Dan Slott, Giuseppe Camuncoli, Ryan Stegman), (Amazing Spider-Man (1999 - 2013), Dan Slott, Humberto Ramos), (Amazing Spider-Man (1999 - 2013), Dan Slott, John Romita), (Amazing Spider-Man (1999 - 2013), Dan Slott, Marcos Martin), (Amazing Spider-Man (1999 - 2013), Dan Slott, Marcos Martin, Javier Pulido), (Amazing Spider-Man (1999 - 2013), Dan Slott, Marcos Martin, Ty Templeton, Nuno Plati, Stefano Caselli), (Amazing Spider-Man (1999 - 2013), Dan Slott, Michael Lark), (Amazing Spider-Man (1999 - 2013), Dan Slott, Michael Mckone), (Amazing Spider-Man (1999 - 2013), Dan Slott, Michael Mckone, Klaus Janson), (Amazing Spider-Man (1999 - 2013), Dan Slott, None), (Amazing Spider-Man (1999 - 2013), Dan Slott, Paolo Rivera), (Amazing Spider-Man (1999 - 2013), Dan Slott, Reilly Brown, Stefano Caselli), (Amazing Spider-Man (1999 - 2013), Dan Slott, Richard Elson), (Amazing Spider-Man (1999 - 2013), Dan Slott, Stefano Caselli), (Amazing Spider-Man (1999 - 2013), Dan Slott, Steve Mcniven), (Amazing Spider-Man (1999 - 2013), Dan Slott, Christopher Yost, None), (Amazing Spider-Man (1999 - 2013), Dan Slott, Christos Gage, Giuseppe Camuncoli), (Amazing Spider-Man (1999 - 2013), Dan Slott, Frank Tieri, Christos Gage, Emma Rios, Javier Rodriguez, Reilly Brown), (Amazing Spider-Man (1999 - 2013), Dan Slott, Fred Van Lente, Stefano Caselli), (Amazing Spider-Man (1999 - 2013), Dan Slott, Fred Van Lente, Stefano Caselli, Ronan Cliquet), (Amazing Spider-Man (1999 - 2013), Dan Slott, Fred Van Lente, Rob Williams, Michael Mckone, Stefano Caselli, Lee Garbett), (Amazing Spider-Man (1999 - 2013), Dan Slott, Marc Guggenheim, Bob Gale, Paulo Siqueira), (Amazing Spider-Man (1999 - 2013), Dan Slott, Mark Waid, None), (Amazing Spider-Man (1999 - 2013), Dan Slott, Mark Waid, Patrick Olliffe, John Romita), (Amazing Spider-Man (1999 - 2013), Dan Slott, Rob Williams, Lee Garbett, Javier Pulido), (Amazing Spider-Man (1999 - 2013), Dan Slott, Todd Dezago, Emma Rios, Giuseppe Camuncoli, Todd Nauck), (Amazing Spider-Man (1999 - 2013), David Morrell, Klaus Janson), (Amazing Spider-Man (1999 - 2013), David Morrell, Mirco Pierfederici), (Amazing Spider-Man (1999 - 2013), Fiona Kelly, John Romita), (Amazing Spider-Man (1999 - 2013), Fred Van Lente, Barry Kitson), (Amazing Spider-Man (1999 - 2013), Fred Van Lente, Javier Pulido), (Amazing Spider-Man (1999 - 2013), Fred Van Lente, Michael Gaydos), (Amazing Spider-Man (1999 - 2013), Fred Van Lente, Paulo Siqueira), (Amazing Spider-Man (1999 - 2013), Fred Van Lente, Robert Atkins), (Amazing Spider-Man (1999 - 2013), Fred Van Lente, Mark Waid, Dan Slott, Zeb Wells, Karl Kesel, Paul Azaceta, Max Fiumara, Adam Archer), (Amazing Spider-Man (1999 - 2013), Fred Van Lente, Rob Williams, Dan Slott, Lee Garbett, Stefano Caselli), (Amazing Spider-Man (1999 - 2013), Greg Weisman, Fred Van Lente, Joe Quinones, Luke Ross), (Amazing Spider-Man (1999 - 2013), Howard Mackie, Erik Larsen), (Amazing Spider-Man (1999 - 2013), Howard Mackie, Joe Bennett), (Amazing Spider-Man (1999 - 2013), Howard Mackie, John Byrne), (Amazing Spider-Man (1999 - 2013), Howard Mackie, John Romita), (Amazing Spider-Man (1999 - 2013), Howard Mackie, Lee Weeks), (Amazing Spider-Man (1999 - 2013), Howard Mackie, Sean Phillips, John Byrne), (Amazing Spider-Man (1999 - 2013), J. M. DeMatteis, Dan Slott, Jennifer Van Meter, Humberto Ramos, Giuseppe Camuncoli), (Amazing Spider-Man (1999 - 2013), J. Michael Straczynski, John Romita), (Amazing Spider-Man (1999 - 2013), J. Michael Straczynski, Mike Deodato), (Amazing Spider-Man (1999 - 2013), J. Michael Straczynski, None), (Amazing Spider-Man (1999 - 2013), J. Michael Straczynski, Ron Garney), (Amazing Spider-Man (1999 - 2013), J. Michael Straczynski, J. Christopher Schmidt, John Romita), (Amazing Spider-Man (1999 - 2013), Joe Casey, Jennifer Van Meter, Clay Mcleod Chapman, Pasqual Ferry), (Amazing Spider-Man (1999 - 2013), Joe Kelly, Adriana Melo, Michael Mckone), (Amazing Spider-Man (1999 - 2013), Joe Kelly, Chris Bachalo), (Amazing Spider-Man (1999 - 2013), Joe Kelly, Eric Canete), (Amazing Spider-Man (1999 - 2013), Joe Kelly, Marco Checchetto), (Amazing Spider-Man (1999 - 2013), Joe Kelly, Marco Checchetto, Paulo Siqueira), (Amazing Spider-Man (1999 - 2013), Joe Kelly, Max Fiumara), (Amazing Spider-Man (1999 - 2013), Joe Kelly, Michael Lark, Stefano Gaudiano), (Amazing Spider-Man (1999 - 2013), Joe Kelly, Michael Mckone), (Amazing Spider-Man (1999 - 2013), Joe Kelly, Paulo Siqueira), (Amazing Spider-Man (1999 - 2013), Joe Kelly, Paulo Siqueira, Stephen Segovia, Marco Checchetto), (Amazing Spider-Man (1999 - 2013), Joe Kelly, Phil Jimenez), (Amazing Spider-Man (1999 - 2013), Joe Kelly, Stefano Gaudiano), (Amazing Spider-Man (1999 - 2013), Joe Kelly, J. M. DeMatteis, Stefano Gaudiano, Max Fiumara), (Amazing Spider-Man (1999 - 2013), Joe Kelly, J. M. DeMatteis, Stan Lee, Michael Lark, Marcos Martin, Max Fiumara), (Amazing Spider-Man (1999 - 2013), Joe Quesada, Danny Miki, Joe Quesada, Richard Isanove, Paolo Rivera), (Amazing Spider-Man (1999 - 2013), Joe Quesada, Joe Quesada), (Amazing Spider-Man (1999 - 2013), Joe Quesada, Paolo Rivera), (Amazing Spider-Man (1999 - 2013), Joe Quesada, Stan Lee, Marcos Martin, Joe Quesada, Paolo Rivera), (Amazing Spider-Man (1999 - 2013), John Byrne, John Byrne), (Amazing Spider-Man (1999 - 2013), John Byrne, None), (Amazing Spider-Man (1999 - 2013), John Romita, Jason Pearson), (Amazing Spider-Man (1999 - 2013), John Romita, None), (Amazing Spider-Man (1999 - 2013), John Romita, John Romita, None), (Amazing Spider-Man (1999 - 2013), Marc Guggenheim, Barry Kitson), (Amazing Spider-Man (1999 - 2013), Marc Guggenheim, John Romita), (Amazing Spider-Man (1999 - 2013), Marc Guggenheim, Luke Ross, Marco Checchetto, Rick Magyar), (Amazing Spider-Man (1999 - 2013), Marc Guggenheim, Marco Checchetto, Rick Magyar, Luke Ross), (Amazing Spider-Man (1999 - 2013), Marc Guggenheim, Phil Jimenez), (Amazing Spider-Man (1999 - 2013), Marc Guggenheim, Rick Magyar, Luke Ross, Marco Checchetto), (Amazing Spider-Man (1999 - 2013), Marc Guggenheim, Salvador Larroca), (Amazing Spider-Man (1999 - 2013), Mark Brooks, Mike Deodato), (Amazing Spider-Man (1999 - 2013), Mark Waid, Barry Kitson, Todd Nauck), (Amazing Spider-Man (1999 - 2013), Mark Waid, Edgar Delgado, Humberto Ramos), ...]\n",
              "\n",
              "[338 rows x 0 columns]"
            ],
            "text/html": [
              "\n",
              "  <div id=\"df-12263cd4-2805-447c-87c6-b6727f302185\" class=\"colab-df-container\">\n",
              "    <div>\n",
              "<style scoped>\n",
              "    .dataframe tbody tr th:only-of-type {\n",
              "        vertical-align: middle;\n",
              "    }\n",
              "\n",
              "    .dataframe tbody tr th {\n",
              "        vertical-align: top;\n",
              "    }\n",
              "\n",
              "    .dataframe thead th {\n",
              "        text-align: right;\n",
              "    }\n",
              "</style>\n",
              "<table border=\"1\" class=\"dataframe\">\n",
              "  <thead>\n",
              "    <tr style=\"text-align: right;\">\n",
              "      <th></th>\n",
              "      <th></th>\n",
              "      <th></th>\n",
              "    </tr>\n",
              "    <tr>\n",
              "      <th>comic_name</th>\n",
              "      <th>writer</th>\n",
              "      <th>penciler</th>\n",
              "    </tr>\n",
              "  </thead>\n",
              "  <tbody>\n",
              "    <tr>\n",
              "      <th rowspan=\"5\" valign=\"top\">Amazing Spider-Man (1999 - 2013)</th>\n",
              "      <th rowspan=\"4\" valign=\"top\">Bob Gale</th>\n",
              "      <th>Barry Kitson</th>\n",
              "    </tr>\n",
              "    <tr>\n",
              "      <th>Michael Mckone</th>\n",
              "    </tr>\n",
              "    <tr>\n",
              "      <th>None</th>\n",
              "    </tr>\n",
              "    <tr>\n",
              "      <th>Phil Jimenez</th>\n",
              "    </tr>\n",
              "    <tr>\n",
              "      <th>Bob Gale, Stan Lee, Zeb Wells, Mark Waid</th>\n",
              "      <th>Derec Donovan, Max Fiumara, John Romita, Colleen Doran</th>\n",
              "    </tr>\n",
              "    <tr>\n",
              "      <th>...</th>\n",
              "      <th>...</th>\n",
              "      <th>...</th>\n",
              "    </tr>\n",
              "    <tr>\n",
              "      <th rowspan=\"5\" valign=\"top\">Iron Man (1968 - 1996)</th>\n",
              "      <th rowspan=\"2\" valign=\"top\">Terry Kavanagh</th>\n",
              "      <th>Marc Campos, Jim Cheung</th>\n",
              "    </tr>\n",
              "    <tr>\n",
              "      <th>Tom Morgan</th>\n",
              "    </tr>\n",
              "    <tr>\n",
              "      <th>Terry Kavanagh, Dan Abnett</th>\n",
              "      <th>Jim Cheung, Hector Collazo, James Calafiore</th>\n",
              "    </tr>\n",
              "    <tr>\n",
              "      <th>Terry Kavanagh, James Felder</th>\n",
              "      <th>Joe Bennett</th>\n",
              "    </tr>\n",
              "    <tr>\n",
              "      <th>Tom Orzechowski, Mike Friedrich</th>\n",
              "      <th>Keith Pollard, Arvell Jones</th>\n",
              "    </tr>\n",
              "  </tbody>\n",
              "</table>\n",
              "<p>338 rows × 0 columns</p>\n",
              "</div>\n",
              "    <div class=\"colab-df-buttons\">\n",
              "\n",
              "  <div class=\"colab-df-container\">\n",
              "    <button class=\"colab-df-convert\" onclick=\"convertToInteractive('df-12263cd4-2805-447c-87c6-b6727f302185')\"\n",
              "            title=\"Convert this dataframe to an interactive table.\"\n",
              "            style=\"display:none;\">\n",
              "\n",
              "  <svg xmlns=\"http://www.w3.org/2000/svg\" height=\"24px\" viewBox=\"0 -960 960 960\">\n",
              "    <path d=\"M120-120v-720h720v720H120Zm60-500h600v-160H180v160Zm220 220h160v-160H400v160Zm0 220h160v-160H400v160ZM180-400h160v-160H180v160Zm440 0h160v-160H620v160ZM180-180h160v-160H180v160Zm440 0h160v-160H620v160Z\"/>\n",
              "  </svg>\n",
              "    </button>\n",
              "\n",
              "  <style>\n",
              "    .colab-df-container {\n",
              "      display:flex;\n",
              "      gap: 12px;\n",
              "    }\n",
              "\n",
              "    .colab-df-convert {\n",
              "      background-color: #E8F0FE;\n",
              "      border: none;\n",
              "      border-radius: 50%;\n",
              "      cursor: pointer;\n",
              "      display: none;\n",
              "      fill: #1967D2;\n",
              "      height: 32px;\n",
              "      padding: 0 0 0 0;\n",
              "      width: 32px;\n",
              "    }\n",
              "\n",
              "    .colab-df-convert:hover {\n",
              "      background-color: #E2EBFA;\n",
              "      box-shadow: 0px 1px 2px rgba(60, 64, 67, 0.3), 0px 1px 3px 1px rgba(60, 64, 67, 0.15);\n",
              "      fill: #174EA6;\n",
              "    }\n",
              "\n",
              "    .colab-df-buttons div {\n",
              "      margin-bottom: 4px;\n",
              "    }\n",
              "\n",
              "    [theme=dark] .colab-df-convert {\n",
              "      background-color: #3B4455;\n",
              "      fill: #D2E3FC;\n",
              "    }\n",
              "\n",
              "    [theme=dark] .colab-df-convert:hover {\n",
              "      background-color: #434B5C;\n",
              "      box-shadow: 0px 1px 3px 1px rgba(0, 0, 0, 0.15);\n",
              "      filter: drop-shadow(0px 1px 2px rgba(0, 0, 0, 0.3));\n",
              "      fill: #FFFFFF;\n",
              "    }\n",
              "  </style>\n",
              "\n",
              "    <script>\n",
              "      const buttonEl =\n",
              "        document.querySelector('#df-12263cd4-2805-447c-87c6-b6727f302185 button.colab-df-convert');\n",
              "      buttonEl.style.display =\n",
              "        google.colab.kernel.accessAllowed ? 'block' : 'none';\n",
              "\n",
              "      async function convertToInteractive(key) {\n",
              "        const element = document.querySelector('#df-12263cd4-2805-447c-87c6-b6727f302185');\n",
              "        const dataTable =\n",
              "          await google.colab.kernel.invokeFunction('convertToInteractive',\n",
              "                                                    [key], {});\n",
              "        if (!dataTable) return;\n",
              "\n",
              "        const docLinkHtml = 'Like what you see? Visit the ' +\n",
              "          '<a target=\"_blank\" href=https://colab.research.google.com/notebooks/data_table.ipynb>data table notebook</a>'\n",
              "          + ' to learn more about interactive tables.';\n",
              "        element.innerHTML = '';\n",
              "        dataTable['output_type'] = 'display_data';\n",
              "        await google.colab.output.renderOutput(dataTable, element);\n",
              "        const docLink = document.createElement('div');\n",
              "        docLink.innerHTML = docLinkHtml;\n",
              "        element.appendChild(docLink);\n",
              "      }\n",
              "    </script>\n",
              "  </div>\n",
              "\n",
              "\n",
              "<div id=\"df-0affdd52-4d29-4068-a337-bc06cb7746ff\">\n",
              "  <button class=\"colab-df-quickchart\" onclick=\"quickchart('df-0affdd52-4d29-4068-a337-bc06cb7746ff')\"\n",
              "            title=\"Suggest charts\"\n",
              "            style=\"display:none;\">\n",
              "\n",
              "<svg xmlns=\"http://www.w3.org/2000/svg\" height=\"24px\"viewBox=\"0 0 24 24\"\n",
              "     width=\"24px\">\n",
              "    <g>\n",
              "        <path d=\"M19 3H5c-1.1 0-2 .9-2 2v14c0 1.1.9 2 2 2h14c1.1 0 2-.9 2-2V5c0-1.1-.9-2-2-2zM9 17H7v-7h2v7zm4 0h-2V7h2v10zm4 0h-2v-4h2v4z\"/>\n",
              "    </g>\n",
              "</svg>\n",
              "  </button>\n",
              "\n",
              "<style>\n",
              "  .colab-df-quickchart {\n",
              "      --bg-color: #E8F0FE;\n",
              "      --fill-color: #1967D2;\n",
              "      --hover-bg-color: #E2EBFA;\n",
              "      --hover-fill-color: #174EA6;\n",
              "      --disabled-fill-color: #AAA;\n",
              "      --disabled-bg-color: #DDD;\n",
              "  }\n",
              "\n",
              "  [theme=dark] .colab-df-quickchart {\n",
              "      --bg-color: #3B4455;\n",
              "      --fill-color: #D2E3FC;\n",
              "      --hover-bg-color: #434B5C;\n",
              "      --hover-fill-color: #FFFFFF;\n",
              "      --disabled-bg-color: #3B4455;\n",
              "      --disabled-fill-color: #666;\n",
              "  }\n",
              "\n",
              "  .colab-df-quickchart {\n",
              "    background-color: var(--bg-color);\n",
              "    border: none;\n",
              "    border-radius: 50%;\n",
              "    cursor: pointer;\n",
              "    display: none;\n",
              "    fill: var(--fill-color);\n",
              "    height: 32px;\n",
              "    padding: 0;\n",
              "    width: 32px;\n",
              "  }\n",
              "\n",
              "  .colab-df-quickchart:hover {\n",
              "    background-color: var(--hover-bg-color);\n",
              "    box-shadow: 0 1px 2px rgba(60, 64, 67, 0.3), 0 1px 3px 1px rgba(60, 64, 67, 0.15);\n",
              "    fill: var(--button-hover-fill-color);\n",
              "  }\n",
              "\n",
              "  .colab-df-quickchart-complete:disabled,\n",
              "  .colab-df-quickchart-complete:disabled:hover {\n",
              "    background-color: var(--disabled-bg-color);\n",
              "    fill: var(--disabled-fill-color);\n",
              "    box-shadow: none;\n",
              "  }\n",
              "\n",
              "  .colab-df-spinner {\n",
              "    border: 2px solid var(--fill-color);\n",
              "    border-color: transparent;\n",
              "    border-bottom-color: var(--fill-color);\n",
              "    animation:\n",
              "      spin 1s steps(1) infinite;\n",
              "  }\n",
              "\n",
              "  @keyframes spin {\n",
              "    0% {\n",
              "      border-color: transparent;\n",
              "      border-bottom-color: var(--fill-color);\n",
              "      border-left-color: var(--fill-color);\n",
              "    }\n",
              "    20% {\n",
              "      border-color: transparent;\n",
              "      border-left-color: var(--fill-color);\n",
              "      border-top-color: var(--fill-color);\n",
              "    }\n",
              "    30% {\n",
              "      border-color: transparent;\n",
              "      border-left-color: var(--fill-color);\n",
              "      border-top-color: var(--fill-color);\n",
              "      border-right-color: var(--fill-color);\n",
              "    }\n",
              "    40% {\n",
              "      border-color: transparent;\n",
              "      border-right-color: var(--fill-color);\n",
              "      border-top-color: var(--fill-color);\n",
              "    }\n",
              "    60% {\n",
              "      border-color: transparent;\n",
              "      border-right-color: var(--fill-color);\n",
              "    }\n",
              "    80% {\n",
              "      border-color: transparent;\n",
              "      border-right-color: var(--fill-color);\n",
              "      border-bottom-color: var(--fill-color);\n",
              "    }\n",
              "    90% {\n",
              "      border-color: transparent;\n",
              "      border-bottom-color: var(--fill-color);\n",
              "    }\n",
              "  }\n",
              "</style>\n",
              "\n",
              "  <script>\n",
              "    async function quickchart(key) {\n",
              "      const quickchartButtonEl =\n",
              "        document.querySelector('#' + key + ' button');\n",
              "      quickchartButtonEl.disabled = true;  // To prevent multiple clicks.\n",
              "      quickchartButtonEl.classList.add('colab-df-spinner');\n",
              "      try {\n",
              "        const charts = await google.colab.kernel.invokeFunction(\n",
              "            'suggestCharts', [key], {});\n",
              "      } catch (error) {\n",
              "        console.error('Error during call to suggestCharts:', error);\n",
              "      }\n",
              "      quickchartButtonEl.classList.remove('colab-df-spinner');\n",
              "      quickchartButtonEl.classList.add('colab-df-quickchart-complete');\n",
              "    }\n",
              "    (() => {\n",
              "      let quickchartButtonEl =\n",
              "        document.querySelector('#df-0affdd52-4d29-4068-a337-bc06cb7746ff button');\n",
              "      quickchartButtonEl.style.display =\n",
              "        google.colab.kernel.accessAllowed ? 'block' : 'none';\n",
              "    })();\n",
              "  </script>\n",
              "</div>\n",
              "\n",
              "  <div id=\"id_18b38c14-951b-4627-b32d-63a5979db582\">\n",
              "    <style>\n",
              "      .colab-df-generate {\n",
              "        background-color: #E8F0FE;\n",
              "        border: none;\n",
              "        border-radius: 50%;\n",
              "        cursor: pointer;\n",
              "        display: none;\n",
              "        fill: #1967D2;\n",
              "        height: 32px;\n",
              "        padding: 0 0 0 0;\n",
              "        width: 32px;\n",
              "      }\n",
              "\n",
              "      .colab-df-generate:hover {\n",
              "        background-color: #E2EBFA;\n",
              "        box-shadow: 0px 1px 2px rgba(60, 64, 67, 0.3), 0px 1px 3px 1px rgba(60, 64, 67, 0.15);\n",
              "        fill: #174EA6;\n",
              "      }\n",
              "\n",
              "      [theme=dark] .colab-df-generate {\n",
              "        background-color: #3B4455;\n",
              "        fill: #D2E3FC;\n",
              "      }\n",
              "\n",
              "      [theme=dark] .colab-df-generate:hover {\n",
              "        background-color: #434B5C;\n",
              "        box-shadow: 0px 1px 3px 1px rgba(0, 0, 0, 0.15);\n",
              "        filter: drop-shadow(0px 1px 2px rgba(0, 0, 0, 0.3));\n",
              "        fill: #FFFFFF;\n",
              "      }\n",
              "    </style>\n",
              "    <button class=\"colab-df-generate\" onclick=\"generateWithVariable('table_Comic2')\"\n",
              "            title=\"Generate code using this dataframe.\"\n",
              "            style=\"display:none;\">\n",
              "\n",
              "  <svg xmlns=\"http://www.w3.org/2000/svg\" height=\"24px\"viewBox=\"0 0 24 24\"\n",
              "       width=\"24px\">\n",
              "    <path d=\"M7,19H8.4L18.45,9,17,7.55,7,17.6ZM5,21V16.75L18.45,3.32a2,2,0,0,1,2.83,0l1.4,1.43a1.91,1.91,0,0,1,.58,1.4,1.91,1.91,0,0,1-.58,1.4L9.25,21ZM18.45,9,17,7.55Zm-12,3A5.31,5.31,0,0,0,4.9,8.1,5.31,5.31,0,0,0,1,6.5,5.31,5.31,0,0,0,4.9,4.9,5.31,5.31,0,0,0,6.5,1,5.31,5.31,0,0,0,8.1,4.9,5.31,5.31,0,0,0,12,6.5,5.46,5.46,0,0,0,6.5,12Z\"/>\n",
              "  </svg>\n",
              "    </button>\n",
              "    <script>\n",
              "      (() => {\n",
              "      const buttonEl =\n",
              "        document.querySelector('#id_18b38c14-951b-4627-b32d-63a5979db582 button.colab-df-generate');\n",
              "      buttonEl.style.display =\n",
              "        google.colab.kernel.accessAllowed ? 'block' : 'none';\n",
              "\n",
              "      buttonEl.onclick = () => {\n",
              "        google.colab.notebook.generateWithVariable('table_Comic2');\n",
              "      }\n",
              "      })();\n",
              "    </script>\n",
              "  </div>\n",
              "\n",
              "    </div>\n",
              "  </div>\n"
            ],
            "application/vnd.google.colaboratory.intrinsic+json": {
              "type": "dataframe",
              "variable_name": "table_Comic2",
              "summary": "{\n  \"name\": \"table_Comic2\",\n  \"rows\": 338,\n  \"fields\": []\n}"
            }
          },
          "metadata": {},
          "execution_count": 27
        }
      ]
    },
    {
      "cell_type": "markdown",
      "source": [
        "# Produção por ano:"
      ],
      "metadata": {
        "id": "OkxYtJPOrqEc"
      }
    },
    {
      "cell_type": "code",
      "source": [
        "marvel_df.active_years.value_counts()"
      ],
      "metadata": {
        "colab": {
          "base_uri": "https://localhost:8080/"
        },
        "id": "wp7_Qs9Erxn7",
        "outputId": "04f3fbc9-33a6-48f4-f7d0-3c85ad8a8d1b"
      },
      "execution_count": 28,
      "outputs": [
        {
          "output_type": "execute_result",
          "data": {
            "text/plain": [
              "(1968 - 1996)                    718\n",
              "(2019)                           664\n",
              "(2014 - 2015)                    610\n",
              "(1981 - 2011)                    588\n",
              "(2010)                           552\n",
              "                                ... \n",
              "(Korean) (2020)                    1\n",
              "(1967)                             1\n",
              "(the Spartacus Gambit) (2009)      1\n",
              "(Polish) (2020)                    1\n",
              "(1997 - 1996)                      1\n",
              "Name: active_years, Length: 412, dtype: int64"
            ]
          },
          "metadata": {},
          "execution_count": 28
        }
      ]
    },
    {
      "cell_type": "code",
      "source": [
        "marvel_df.publish_date.value_counts()"
      ],
      "metadata": {
        "colab": {
          "base_uri": "https://localhost:8080/"
        },
        "id": "0aLPC00E4ZqC",
        "outputId": "78270cd1-3fc4-4d81-d168-0ecd3c71433f"
      },
      "execution_count": 29,
      "outputs": [
        {
          "output_type": "execute_result",
          "data": {
            "text/plain": [
              "November 30, -0001    543\n",
              "None                  526\n",
              "January 01, 2005       61\n",
              "January 01, 1992       58\n",
              "January 01, 1991       50\n",
              "                     ... \n",
              "January 26, 2016        1\n",
              "January 19, 2016        1\n",
              "January 12, 2016        1\n",
              "January 05, 2016        1\n",
              "April 10, 1951          1\n",
              "Name: publish_date, Length: 3318, dtype: int64"
            ]
          },
          "metadata": {},
          "execution_count": 29
        }
      ]
    },
    {
      "cell_type": "code",
      "source": [
        "marvel_df[['date', 'year']] = marvel_df['publish_date'].str.split(', ', expand=True)\n",
        "new_df = marvel_df.drop(['active_years', 'publish_date'], axis=1)\n",
        "\n",
        "\n",
        "\n",
        "mask = (new_df['year'] == '-0001') | (new_df['year'] == '2029')\n",
        "new_df['year'][mask] = marvel_df['issue_title'][mask]\n",
        "new_df[['delete', 'year2']] = new_df['year'][mask].str.split('(', expand=True)\n",
        "new_df = new_df.drop(['delete'], axis=1)\n",
        "new_df[['year3', 'delete']] = new_df['year2'][mask].str.split(')', expand=True)\n",
        "new_df['year'][mask] = new_df['year3'][mask]\n",
        "new_df = new_df.drop(['delete', 'year2', 'year3'], axis=1)\n",
        "\n",
        "mask = (new_df['year'] == 'Hardcover') | (new_df['year'] == None) | (new_df['year'] == 'Digest') | (new_df['year'] == 'Trade Paperback')\n",
        "new_df['year'][mask] = np.nan"
      ],
      "metadata": {
        "id": "qyKa17_b8c-x"
      },
      "execution_count": 30,
      "outputs": []
    },
    {
      "cell_type": "code",
      "source": [
        "new_df.year.value_counts()"
      ],
      "metadata": {
        "colab": {
          "base_uri": "https://localhost:8080/"
        },
        "id": "ZHJT5K_4_uZt",
        "outputId": "4947d171-87b1-4f5b-c9f3-4d41a9c721cb"
      },
      "execution_count": 31,
      "outputs": [
        {
          "output_type": "execute_result",
          "data": {
            "text/plain": [
              "2008    1382\n",
              "2007    1329\n",
              "2010    1263\n",
              "2009    1258\n",
              "2011    1228\n",
              "        ... \n",
              "1940      24\n",
              "1957      23\n",
              "1947      14\n",
              "1958      14\n",
              "1939       2\n",
              "Name: year, Length: 83, dtype: int64"
            ]
          },
          "metadata": {},
          "execution_count": 31
        }
      ]
    },
    {
      "cell_type": "code",
      "source": [
        "anos = new_df.year.value_counts().sort_index()"
      ],
      "metadata": {
        "id": "QR5bXxvbADY-"
      },
      "execution_count": 32,
      "outputs": []
    },
    {
      "cell_type": "code",
      "source": [
        "anos.plot(colormap='viridis')\n",
        "plt.legend(bbox_to_anchor=(1.05, 1), loc=0)\n",
        "plt.rcParams['figure.figsize'] = (10, 5)\n",
        "plt.title ('QUANTIDADE DE PRODUÇÃO POR ANO')\n",
        "plt.show()"
      ],
      "metadata": {
        "colab": {
          "base_uri": "https://localhost:8080/",
          "height": 471
        },
        "id": "jW3505yCATEl",
        "outputId": "a3f978be-71e3-4045-e2e2-9c4df09d6d87"
      },
      "execution_count": 41,
      "outputs": [
        {
          "output_type": "display_data",
          "data": {
            "text/plain": [
              "<Figure size 1000x500 with 1 Axes>"
            ],
            "image/png": "[encoded data removed]"
          },
          "metadata": {}
        }
      ]
    },
    {
      "cell_type": "markdown",
      "source": [
        "# Capa:"
      ],
      "metadata": {
        "id": "s24P_YrStH2b"
      }
    },
    {
      "cell_type": "code",
      "source": [
        "marvel_df.cover_artist.count()"
      ],
      "metadata": {
        "colab": {
          "base_uri": "https://localhost:8080/"
        },
        "id": "3uRhWpkpg2mM",
        "outputId": "e19053c6-0a0c-46d3-d479-32cf8fddb23b"
      },
      "execution_count": 65,
      "outputs": [
        {
          "output_type": "execute_result",
          "data": {
            "text/plain": [
              "34992"
            ]
          },
          "metadata": {},
          "execution_count": 65
        }
      ]
    },
    {
      "cell_type": "code",
      "source": [
        "marvel_df.cover_artist.value_counts()"
      ],
      "metadata": {
        "colab": {
          "base_uri": "https://localhost:8080/"
        },
        "id": "4nX2UlTqtLBy",
        "outputId": "894789e8-ade8-4a07-c1b3-68f2d1649b8a"
      },
      "execution_count": 34,
      "outputs": [
        {
          "output_type": "execute_result",
          "data": {
            "text/plain": [
              "None                22737\n",
              "Gil Kane              217\n",
              "Mark Bagley           207\n",
              "Salvador Larroca      161\n",
              "Mike Deodato          145\n",
              "                    ...  \n",
              "Mukesh Singh            1\n",
              "Timothy Green II        1\n",
              "Clarke Hawbaker         1\n",
              "Rob Stotz               1\n",
              "Joe Maneely             1\n",
              "Name: cover_artist, Length: 1011, dtype: int64"
            ]
          },
          "metadata": {},
          "execution_count": 34
        }
      ]
    },
    {
      "cell_type": "code",
      "source": [
        "labels = ['com artistas', 'sem artistas']\n",
        "sizes = [12255, 22737]\n",
        "\n",
        "fig1, ax1 = plt.subplots()\n",
        "\n",
        "ax1.pie(sizes, labels=labels, autopct='%1.1f%%', shadow=True, startangle=90)\n",
        "ax1.axis('equal')\n",
        "plt.show()"
      ],
      "metadata": {
        "colab": {
          "base_uri": "https://localhost:8080/",
          "height": 422
        },
        "id": "FA_SjrCpg7i7",
        "outputId": "0b2321f7-8dab-4a75-f9d8-dbae2c663668"
      },
      "execution_count": 75,
      "outputs": [
        {
          "output_type": "display_data",
          "data": {
            "text/plain": [
              "<Figure size 1000x500 with 1 Axes>"
            ],
            "image/png": "[encoded data removed]"
          },
          "metadata": {}
        }
      ]
    },
    {
      "cell_type": "code",
      "source": [
        "topArtist = marvel_df.cover_artist.where(marvel_df.cover_artist != 'None').value_counts().head(10)"
      ],
      "metadata": {
        "id": "04-AsGcN5fDi"
      },
      "execution_count": 76,
      "outputs": []
    },
    {
      "cell_type": "code",
      "source": [
        "topArtist.plot(kind='bar')\n",
        "plt.title('TOP CAPAS(com artistas):')\n",
        "plt.show()"
      ],
      "metadata": {
        "colab": {
          "base_uri": "https://localhost:8080/",
          "height": 571
        },
        "id": "DWQqulbs5uK0",
        "outputId": "53234333-dc4a-42c3-9126-a3ba60ee88ca"
      },
      "execution_count": 81,
      "outputs": [
        {
          "output_type": "display_data",
          "data": {
            "text/plain": [
              "<Figure size 1000x500 with 1 Axes>"
            ],
            "image/png": "[encoded data removed]"
          },
          "metadata": {}
        }
      ]
    },
    {
      "cell_type": "markdown",
      "source": [],
      "metadata": {
        "id": "VBEZijnZryIx"
      }
    },
    {
      "cell_type": "markdown",
      "source": [
        "# Valores:"
      ],
      "metadata": {
        "id": "6XjTPQxyr2vF"
      }
    },
    {
      "cell_type": "code",
      "source": [
        "marvel_df.Price = marvel_df.Price.str.replace('$', '')"
      ],
      "metadata": {
        "colab": {
          "base_uri": "https://localhost:8080/"
        },
        "id": "VA3epin8l2E6",
        "outputId": "49eaa7fe-cf20-4cae-c738-d7ea5aeca28b"
      },
      "execution_count": 82,
      "outputs": [
        {
          "output_type": "stream",
          "name": "stderr",
          "text": [
            "<ipython-input-82-04d2158680a3>:1: FutureWarning: The default value of regex will change from True to False in a future version. In addition, single character regular expressions will *not* be treated as literal strings when regex=True.\n",
            "  marvel_df.Price = marvel_df.Price.str.replace('$', '')\n"
          ]
        }
      ]
    },
    {
      "cell_type": "code",
      "source": [
        "marvel_df['Price'] = pd.to_numeric(marvel_df['Price'], errors='coerce')"
      ],
      "metadata": {
        "id": "bnWdn0Ummhnj"
      },
      "execution_count": 96,
      "outputs": []
    },
    {
      "cell_type": "code",
      "source": [
        "marvel_df.Price.info()"
      ],
      "metadata": {
        "colab": {
          "base_uri": "https://localhost:8080/"
        },
        "id": "JpjdOBZjmYW5",
        "outputId": "1a5c2d0a-29a6-47a7-c9bd-3bf911295746"
      },
      "execution_count": 98,
      "outputs": [
        {
          "output_type": "stream",
          "name": "stdout",
          "text": [
            "<class 'pandas.core.series.Series'>\n",
            "RangeIndex: 34992 entries, 0 to 34991\n",
            "Series name: Price\n",
            "Non-Null Count  Dtype  \n",
            "--------------  -----  \n",
            "17758 non-null  float64\n",
            "dtypes: float64(1)\n",
            "memory usage: 273.5 KB\n"
          ]
        }
      ]
    },
    {
      "cell_type": "code",
      "source": [
        "marvel_df.Price.sum()"
      ],
      "metadata": {
        "colab": {
          "base_uri": "https://localhost:8080/"
        },
        "id": "smSIq7ygouyt",
        "outputId": "284f4855-8984-4702-9c93-418503cc11f0"
      },
      "execution_count": 99,
      "outputs": [
        {
          "output_type": "execute_result",
          "data": {
            "text/plain": [
              "63464.03000000001"
            ]
          },
          "metadata": {},
          "execution_count": 99
        }
      ]
    },
    {
      "cell_type": "code",
      "source": [
        "marvel_df.Price.value_counts().sort_index(ascending=False)"
      ],
      "metadata": {
        "colab": {
          "base_uri": "https://localhost:8080/"
        },
        "id": "9nCRk5tpsCyJ",
        "outputId": "677cd3e8-0e6d-4f17-dcf6-695b29d9bfd0"
      },
      "execution_count": 97,
      "outputs": [
        {
          "output_type": "execute_result",
          "data": {
            "text/plain": [
              "99.99       4\n",
              "59.99       1\n",
              "54.99       5\n",
              "34.99       9\n",
              "29.99       9\n",
              "24.99      30\n",
              "19.99      23\n",
              "19.95       1\n",
              "16.99       3\n",
              "15.99       1\n",
              "14.99       7\n",
              "13.99       7\n",
              "12.99       6\n",
              "11.99       1\n",
              "9.99      175\n",
              "7.99       72\n",
              "6.99       33\n",
              "5.99      140\n",
              "5.95        3\n",
              "4.99     1026\n",
              "4.95        4\n",
              "4.50        1\n",
              "3.99     8228\n",
              "3.95       61\n",
              "3.50       97\n",
              "3.00       14\n",
              "2.99     5205\n",
              "2.95       46\n",
              "2.50      154\n",
              "2.25      297\n",
              "2.00       10\n",
              "1.99      142\n",
              "1.95      125\n",
              "1.78        1\n",
              "1.75       39\n",
              "1.50      136\n",
              "1.25      100\n",
              "1.00      411\n",
              "0.99       45\n",
              "0.75      161\n",
              "0.65       25\n",
              "0.60      135\n",
              "0.50       62\n",
              "0.40       39\n",
              "0.35       70\n",
              "0.30       73\n",
              "0.25      143\n",
              "0.20       60\n",
              "0.16        3\n",
              "0.15       34\n",
              "0.12      152\n",
              "0.10      129\n",
              "Name: Price, dtype: int64"
            ]
          },
          "metadata": {},
          "execution_count": 97
        }
      ]
    }
  ]
}